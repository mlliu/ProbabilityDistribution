{
 "cells": [
  {
   "cell_type": "code",
   "execution_count": 63,
   "id": "385c8411",
   "metadata": {
    "scrolled": true
   },
   "outputs": [],
   "source": [
    "from scipy.misc import derivative\n",
    "import math\n",
    "\n",
    "class TaylorSeries():\n",
    "    def __init__(self, function, order, center=0):\n",
    "        self.center = center\n",
    "        self.f = function \n",
    "        self.order = order\n",
    "        self.d_pts = order*2\n",
    "        self.coefficients = []\n",
    "\n",
    "        # number of points (order) for scipy.misc.derivative\n",
    "        if self.d_pts % 2 == 0: # must be odd and greater than derivative order\n",
    "            self.d_pts += 1\n",
    "\n",
    "        self.__find_coefficients()\n",
    "\n",
    "    def __find_coefficients(self):\n",
    "        for i in range(0, self.order+1):\n",
    "            self.coefficients.append(round(derivative(self.f, self.center, n=i, order=self.d_pts)/math.factorial(i),5))\n",
    "\n",
    "    def print_equation(self):\n",
    "        eqn_string = \"\"\n",
    "        for i in range(self.order + 1):\n",
    "            if self.coefficients[i] != 0:\n",
    "                eqn_string += str(self.coefficients[i]) + (\"*(x)**{}\".format(self.center, i) if i > 0 else \"\") + \" + \"\n",
    "        eqn_string = eqn_string[:-3] if eqn_string.endswith(\" + \") else eqn_string\n",
    "        print(eqn_string)\n",
    "\n",
    "    def print_coefficients(self):\n",
    "        print(self.coefficients)\n",
    "\n",
    "    def approximate_value(self, x):\n",
    "        \"\"\"\n",
    "            Approximates the value of f(x) using the taylor polynomial.\n",
    "            x = point to approximate f(x)\n",
    "        \"\"\"\n",
    "        fx = 0\n",
    "        for i in range(len(self.coefficients)):\n",
    "            fx += self.coefficients[i] * ((x - self.center)**i)  # coefficient * nth term \n",
    "        return fx\n",
    "\n",
    "    def approximate_derivative(self, x):\n",
    "        \"\"\"\n",
    "            Estimates the derivative of a function f(x) from its Taylor series.\n",
    "            Useless since we need the derivative of the actual function to find the series\n",
    "        \"\"\"\n",
    "        value = 0\n",
    "        for i in range(1, len(self.coefficients)): # skip the first value (constant) as the derivative is 0\n",
    "            value += self.coefficients[i] * i * ((x - self.center)**(i-1)) # differentiate each term: x^n => n*x^(n-1)\n",
    "        return value\n",
    "\n",
    "    def approximate_integral(self, x0, x1):\n",
    "        \"\"\"\n",
    "            Estimates the definite integral of the function using the Taylor series expansion.\n",
    "            More useful, consider e^x * sin(x), easy to differentiate but difficult to integrate.\n",
    "            x0 - lower limit of integration\n",
    "            x1 - upper limit of integration \n",
    "        \"\"\"\n",
    "        \n",
    "        # integrals can be off by a constant since int(f(x)) = F(x) + C\n",
    "        value = 0\n",
    "        for i in range(len(self.coefficients)):\n",
    "            value += ((self.coefficients[i] * (1/(i+1)) * ((x1 - self.center)**(i+1))) - \n",
    "                      (self.coefficients[i] * (1/(i+1)) * ((x0 - self.center)**(i+1)))) # integrate each term: x^n => (1/n+1)*x^(n+1)\n",
    "        return value\n",
    "\n",
    "    def get_coefficients(self):\n",
    "        \"\"\"\n",
    "            Returns the coefficients of the taylor series \n",
    "        \"\"\"\n",
    "        return self.coefficients"
   ]
  },
  {
   "cell_type": "code",
   "execution_count": 64,
   "id": "ea73a2ad",
   "metadata": {
    "scrolled": true
   },
   "outputs": [
    {
     "name": "stdout",
     "output_type": "stream",
     "text": [
      "[1.0, -0.0, -0.5, 0.0, 0.04167, -0.0, -0.00139, 0.0, 2e-05, 0.0, -0.0, -0.0, 0.0, 0.0, -0.0, -0.0]\n",
      "1.0 + -0.5*(x)**0 + 0.04167*(x)**0 + -0.00139*(x)**0 + 2e-05*(x)**0\n",
      "x\tf(x)\tApprox. f(x)\tIntegral f(x)\tDerivative f(x)\n",
      "0.000\t1.000\t1.000\t0.000\t0.000\n",
      "0.524\t0.866\t0.866\t0.500\t-0.500\n",
      "0.785\t0.707\t0.707\t0.707\t-0.707\n",
      "1.047\t0.500\t0.500\t0.866\t-0.866\n",
      "1.571\t0.000\t-0.000\t1.000\t-1.001\n",
      "3.142\t-1.000\t-1.022\t-0.009\t-0.042\n"
     ]
    }
   ],
   "source": [
    "\n",
    "from math import sin, cos, log, e,tan\n",
    "\n",
    "def f(x):\n",
    "    # a very complicated function\n",
    "    y = cos(x)\n",
    "    return y      #(math.e**x)*math.sin(x)*math.cos(x)\n",
    "\n",
    "if __name__ == '__main__':\n",
    "    pts = [0, math.pi/6, math.pi/4, math.pi/3, math.pi/2, math.pi]\n",
    "    # pts = [-5, -4, -3, -2, -1, -0.1, 0, 0.1, 1, 2, 3, 4, 5]\n",
    "    terms = 15\n",
    "    center = 0\n",
    "    precision = 3\n",
    "\n",
    "    ts = TaylorSeries(f, terms, center)\n",
    "    ts.print_coefficients()\n",
    "    ts.print_equation()\n",
    "    \n",
    "    print(\"x\\tf(x)\\tApprox. f(x)\\tIntegral f(x)\\tDerivative f(x)\")\n",
    "    for x in pts:\n",
    "        print(\"{:.3f}\\t{:.3f}\\t{:.3f}\\t{:.3f}\\t{:.3f}\".format(x, f(x), ts.approximate_value(x), ts.approximate_integral(0, x), ts.approximate_derivative(x)))\n"
   ]
  },
  {
   "cell_type": "code",
   "execution_count": 65,
   "id": "54974b92",
   "metadata": {
    "scrolled": true
   },
   "outputs": [
    {
     "data": {
      "text/plain": [
       "3.6675199999999997"
      ]
     },
     "execution_count": 65,
     "metadata": {},
     "output_type": "execute_result"
    }
   ],
   "source": [
    "x = 4\n",
    "eval(\"1.0 + -0.5*(x)**2 + 0.04167*x**4\")\n"
   ]
  },
  {
   "cell_type": "code",
   "execution_count": 66,
   "id": "a350c002",
   "metadata": {
    "scrolled": false
   },
   "outputs": [
    {
     "data": {
      "text/plain": [
       "2"
      ]
     },
     "execution_count": 66,
     "metadata": {},
     "output_type": "execute_result"
    }
   ],
   "source": [
    "x=2\n",
    "eval('x')\n"
   ]
  },
  {
   "cell_type": "code",
   "execution_count": 67,
   "id": "87abb94e",
   "metadata": {},
   "outputs": [
    {
     "data": {
      "text/plain": [
       "21"
      ]
     },
     "execution_count": 67,
     "metadata": {},
     "output_type": "execute_result"
    }
   ],
   "source": [
    "x = 7\n",
    "eval( '3 * x' )\n",
    "21"
   ]
  },
  {
   "cell_type": "code",
   "execution_count": null,
   "id": "fcfddd42",
   "metadata": {},
   "outputs": [],
   "source": []
  }
 ],
 "metadata": {
  "kernelspec": {
   "display_name": "Python 3 (ipykernel)",
   "language": "python",
   "name": "python3"
  },
  "language_info": {
   "codemirror_mode": {
    "name": "ipython",
    "version": 3
   },
   "file_extension": ".py",
   "mimetype": "text/x-python",
   "name": "python",
   "nbconvert_exporter": "python",
   "pygments_lexer": "ipython3",
   "version": "3.7.11"
  }
 },
 "nbformat": 4,
 "nbformat_minor": 5
}
