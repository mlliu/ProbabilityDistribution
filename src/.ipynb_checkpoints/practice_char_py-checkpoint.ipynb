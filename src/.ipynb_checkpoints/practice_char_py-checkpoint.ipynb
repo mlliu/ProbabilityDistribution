{
 "cells": [
  {
   "cell_type": "code",
   "execution_count": 202,
   "id": "4434a1ae",
   "metadata": {},
   "outputs": [],
   "source": [
    "import sympy as sp\n",
    "import numpy as np\n",
    "from sympy.parsing.sympy_parser import parse_expr\n",
    "from sympy.core.cache import clear_cache\n",
    "from sympy.integrals.risch import NonElementaryIntegral\n",
    "from sympy.calculus.util import AccumBounds\n",
    "import re\n",
    "from sympy import *\n",
    "SYMPY_OPERATORS = {\n",
    "    # Elementary functions\n",
    "        sp.Add: 'add',\n",
    "        sp.Mul: 'mul',\n",
    "        sp.Pow: 'pow',\n",
    "        sp.exp: 'exp',\n",
    "        sp.log: 'ln',\n",
    "        sp.Abs: 'abs',\n",
    "        sp.sign: 'sign',\n",
    "        # Trigonometric Functions\n",
    "        sp.sin: 'sin',\n",
    "        sp.cos: 'cos',\n",
    "        sp.tan: 'tan',\n",
    "        sp.cot: 'cot',\n",
    "        sp.sec: 'sec',\n",
    "        sp.csc: 'csc',\n",
    "        # Trigonometric Inverses\n",
    "        sp.asin: 'asin',\n",
    "        sp.acos: 'acos',\n",
    "        sp.atan: 'atan',\n",
    "        sp.acot: 'acot',\n",
    "        sp.asec: 'asec',\n",
    "        sp.acsc: 'acsc',\n",
    "        # Hyperbolic Functions\n",
    "        sp.sinh: 'sinh',\n",
    "        sp.cosh: 'cosh',\n",
    "        sp.tanh: 'tanh',\n",
    "        sp.coth: 'coth',\n",
    "        sp.sech: 'sech',\n",
    "        sp.csch: 'csch',\n",
    "         # Hyperbolic Inverses\n",
    "        sp.asinh: 'asinh',\n",
    "        sp.acosh: 'acosh',\n",
    "        sp.atanh: 'atanh',\n",
    "        sp.acoth: 'acoth',\n",
    "        sp.asech: 'asech',\n",
    "        sp.acsch: 'acsch',\n",
    "    }\n",
    "CLASSIFY_OPERATORS = {\n",
    "        # Elementary functions\n",
    "        'add': 2,\n",
    "        'sub': 2,\n",
    "        'mul': 2,\n",
    "        'div': 2,\n",
    "        'pow': 2,\n",
    "        'rac': 2,\n",
    "        'inv': 1,\n",
    "        'pow2': 1,\n",
    "        'pow3': 1,\n",
    "        'pow4': 1,\n",
    "        'pow5': 1,\n",
    "        'sqrt': 1,\n",
    "        'exp': 1,\n",
    "        'ln': 1,\n",
    "        'abs': 1,\n",
    "        'sign': 1,\n",
    "        # Trigonometric Functions\n",
    "        'sin': 1,\n",
    "        'cos': 1,\n",
    "        'tan': 1,\n",
    "        'cot': 1,\n",
    "        'sec': 1,\n",
    "        'csc': 1,\n",
    "         # Trigonometric Inverses\n",
    "        'asin': 1,\n",
    "        'acos': 1,\n",
    "        'atan': 1,\n",
    "        'acot': 1,\n",
    "        'asec': 1,\n",
    "        'acsc': 1,\n",
    "        # Hyperbolic Functions\n",
    "        'sinh': 1,\n",
    "        'cosh': 1,\n",
    "        'tanh': 1,\n",
    "        'coth': 1,\n",
    "        'sech': 1,\n",
    "        'csch': 1,\n",
    "        # Hyperbolic Inverses\n",
    "        'asinh': 1,\n",
    "        'acosh': 1,\n",
    "        'atanh': 1,\n",
    "        'acoth': 1,\n",
    "        'asech': 1,\n",
    "        'acsch': 1,\n",
    "    }\n",
    "    #no need for derivative and custom fuction\n",
    "        # Derivative\n",
    "  #      'derivative': 2,\n",
    "  #      # custom functions\n",
    "  #      'f': 1,\n",
    "  #      'g': 2,\n",
    "  #      'h': 3,\n",
    "  #  }\n",
    "    "
   ]
  },
  {
   "cell_type": "code",
   "execution_count": 32,
   "id": "860a0bd8",
   "metadata": {},
   "outputs": [],
   "source": [
    "def generate_bin_dist( max_ops):\n",
    "        \"\"\"\n",
    "        `max_ops`: maximum number of operators\n",
    "        Enumerate the number of possible binary trees that can be generated from empty nodes.\n",
    "        D[e][n] represents the number of different binary trees with n nodes that\n",
    "        can be generated from e empty nodes, using the following recursion:\n",
    "            D(0, n) = 0\n",
    "            D(1, n) = C_n (n-th Catalan number)\n",
    "            D(e, n) = D(e - 1, n + 1) - D(e - 2, n + 1)\n",
    "        \"\"\"\n",
    "        # initialize Catalan numbers\n",
    "        catalans = [1]\n",
    "        for i in range(1, 2 * max_ops + 1):\n",
    "            catalans.append((4 * i - 2) * catalans[i - 1] // (i + 1))\n",
    "\n",
    "        # enumerate possible trees\n",
    "        D = []\n",
    "        for e in range(max_ops + 1):  # number of empty nodes\n",
    "            s = []\n",
    "            for n in range(2 * max_ops - e + 1):  # number of operators\n",
    "                if e == 0:\n",
    "                    s.append(0)\n",
    "                elif e == 1:\n",
    "                    s.append(catalans[n])\n",
    "                else:\n",
    "                    s.append(D[e - 1][n + 1] - D[e - 2][n + 1])\n",
    "            D.append(s)\n",
    "        return D\n",
    "def generate_ubi_dist( max_ops):\n",
    "        \"\"\"\n",
    "        `max_ops`: maximum number of operators\n",
    "        Enumerate the number of possible unary-binary trees that can be generated from empty nodes.\n",
    "        D[e][n] represents the number of different binary trees with n nodes that\n",
    "        can be generated from e empty nodes, using the following recursion:\n",
    "            D(0, n) = 0\n",
    "            D(e, 0) = L ** e\n",
    "            D(e, n) = L * D(e - 1, n) + p_1 * D(e, n - 1) + p_2 * D(e + 1, n - 1)\n",
    "        \"\"\"\n",
    "        # enumerate possible trees\n",
    "        # first generate the tranposed version of D, then transpose it\n",
    "        D = []\n",
    "        D.append([0] + ([nl ** i for i in range(1, 2 * max_ops + 1)]))\n",
    "        for n in range(1, 2 * max_ops + 1):  # number of operators\n",
    "            s = [0]\n",
    "            for e in range(1, 2 * max_ops - n + 1):  # number of empty nodes\n",
    "                s.append(nl * s[e - 1] + p1 * D[n - 1][e] + p2 * D[n - 1][e + 1])\n",
    "            D.append(s)\n",
    "        assert all(len(D[i]) >= len(D[i + 1]) for i in range(len(D) - 1))\n",
    "        D = [[D[j][i] for j in range(len(D)) if i < len(D[j])] for i in range(max(len(x) for x in D))]\n",
    "        return D\n",
    "def sample_next_pos_ubi(nb_empty, nb_ops, rng):\n",
    "        \"\"\"\n",
    "        Sample the position of the next node (unary-binary case).\n",
    "        Sample a position in {0, ..., `nb_empty` - 1}, along with an arity.\n",
    "        \"\"\"\n",
    "        assert nb_empty > 0\n",
    "        assert nb_ops > 0\n",
    "        probs = []\n",
    "        for i in range(nb_empty):\n",
    "            probs.append((nl ** i) * p1 * ubi_dist[nb_empty - i][nb_ops - 1])\n",
    "        for i in range(nb_empty):\n",
    "            probs.append((nl ** i) * p2 * ubi_dist[nb_empty - i + 1][nb_ops - 1])\n",
    "        probs = [p / ubi_dist[nb_empty][nb_ops] for p in probs]\n",
    "        probs = np.array(probs, dtype=np.float64)\n",
    "                                             #compute the ubi_dist is to generate four expression trees with same probability\n",
    "        e = rng.choice(2 * nb_empty, p=probs)# random select a number from range(2*nb_empty) with p = probs\n",
    "        arity = 1 if e < nb_empty else 2     #1 is for uni 2 is for binary\n",
    "        e = e % nb_empty                     #e is skipped, is the position of the operator\n",
    "        return e, arity"
   ]
  },
  {
   "cell_type": "code",
   "execution_count": 323,
   "id": "19363a92",
   "metadata": {},
   "outputs": [],
   "source": [
    "max_ops =5 #maximum number of operators at generation\n",
    "max_int =5 #max value of sampled integers\n",
    "        #self.positive = True #sign of sampled integers\n",
    "max_len = 512#maximum length of generated equations\n",
    "leaf_probs = [0.5,0.25,0.25] # variables integers and constants\n",
    "positive = True # do not sample negative numbers\n",
    "        #operators and thier weight\n",
    "\n",
    "int_base= 10\n",
    "balanced = False # in char_sp.py file\n",
    "\n",
    "classify_operators = sorted(list(CLASSIFY_OPERATORS.keys()))\n",
    "ops = \"add:10,sub:3,mul:10,div:5,sqrt:4,pow2:4,pow3:2,pow4:1,pow5:1,ln:4,exp:4,sin:4,cos:4,tan:4,asin:1,acos:1,atan:1,sinh:1,cosh:1,tanh:1,asinh:1,acosh:1,atanh:1\"\n",
    "        \n",
    "ops = ops.split(',')\n",
    "ops = sorted([x.split(':') for x in ops])\n",
    "        \n",
    "all_ops = [o for o,_ in ops]\n",
    "una_ops = [o for o,_ in ops if CLASSIFY_OPERATORS[o]==1]\n",
    "bin_ops = [o for o,_ in ops if CLASSIFY_OPERATORS[o]==2]\n",
    "        \n",
    "all_ops_probs = np.array([float(w) for _,w in ops]).astype(np.float64)\n",
    "una_ops_probs = np.array([float(w) for o,w in ops if CLASSIFY_OPERATORS[o]==1]).astype(np.float64)\n",
    "bin_ops_probs = np.array([float(w) for o,w in ops if CLASSIFY_OPERATORS[o]==2]).astype(np.float64)\n",
    "        \n",
    "all_ops_probs =all_ops_probs/all_ops_probs.sum()\n",
    "una_ops_probs =una_ops_probs/una_ops_probs.sum()\n",
    "bin_ops_probs =bin_ops_probs/bin_ops_probs.sum()\n",
    "        \n",
    "        \n",
    "        #constants\n",
    "constants = ['pi']\n",
    "#constants = ['pi','E']\n",
    "        # variables, we only use x\n",
    "variables = {'x':sp.Symbol('x',real = True,nonzero=True)}\n",
    "        #no coefficients, no functions,no symbols, no balanced \n",
    "n_variables =len(variables)\n",
    "        #vocabulary combination of all symbols\n",
    "words = constants +list(variables.keys())+all_ops #where is integer\n",
    "id2word = {id: w for id,w in enumerate(words)}\n",
    "wordid = {w:id for id,w in enumerate(words)}\n",
    "        \n",
    "        #number of words\n",
    "n_words = len(words)\n",
    "eos_index = 0\n",
    "pad_index = 1\n",
    "        \n",
    "        #leaf probability [0.5,0.25,0.25] # variables integers and constants\n",
    "leaf_probs = np.array(leaf_probs).astype(np.float64)\n",
    "leaf_probs = leaf_probs/leaf_probs.sum()\n",
    "        #number of leaves\n",
    "n_leaves = len(variables) + max_int *(1 if positive else 2)+ len(constants)\n",
    "     \n",
    "    \n",
    "        # generation parameters\n",
    "nl = 1  # self.n_leaves\n",
    "p1 = 1  # len(self.una_ops)\n",
    "p2 = 1  # len(self.bin_ops)\n",
    "        # initialize distribution for binary and unary-binary trees\n",
    "bin_dist = generate_bin_dist(max_ops)\n",
    "ubi_dist = generate_ubi_dist(max_ops)"
   ]
  },
  {
   "cell_type": "code",
   "execution_count": 99,
   "id": "5e117628",
   "metadata": {},
   "outputs": [],
   "source": [
    "def write_int(val):  #101 to ['INT+', '1', '0', '1']\n",
    "        \"\"\"\n",
    "        Convert a decimal integer to a representation in the given base.\n",
    "        The base can be negative.\n",
    "        In balanced bases (positive), digits range from -(base-1)//2 to (base-1)//2\n",
    "        \"\"\"\n",
    "        base = 10#self.int_base\n",
    "        balanced = False#self.balanced\n",
    "        res = []\n",
    "        max_digit = abs(base)\n",
    "        if balanced:\n",
    "            max_digit = (base - 1) // 2\n",
    "        else:\n",
    "            if base > 0:\n",
    "                neg = val < 0\n",
    "                val = -val if neg else val\n",
    "        while True:\n",
    "            rem = val % base\n",
    "            val = val // base\n",
    "            if rem < 0 or rem > max_digit:\n",
    "                rem -= base\n",
    "                val += 1\n",
    "            res.append(str(rem))\n",
    "            if val == 0:\n",
    "                break\n",
    "        if base < 0 or balanced:\n",
    "            res.append('INT')\n",
    "        else:\n",
    "            res.append('INT-' if neg else 'INT+')\n",
    "        return res[::-1]\n",
    "def get_leaf(max_int, rng):\n",
    "        \"\"\"\n",
    "        Generate a leaf.\n",
    "        \"\"\"\n",
    "        leaf_probs\n",
    "        leaf_type = rng.choice(3, p=leaf_probs)\n",
    "        if leaf_type == 0:\n",
    "            return [list(variables.keys())[rng.randint(n_variables)]]\n",
    "        \n",
    "        elif leaf_type == 2:\n",
    "            c = rng.randint(1, max_int + 1)\n",
    "            c = c if (positive or rng.randint(2) == 0) else -c\n",
    "            return write_int(c)\n",
    "        else:\n",
    "            return [constants[rng.randint(len(constants))]]"
   ]
  },
  {
   "cell_type": "code",
   "execution_count": 100,
   "id": "0a345c3e",
   "metadata": {},
   "outputs": [],
   "source": [
    "def _generate_expr(nb_total_ops, max_int, rng, require_x=False, require_y=False, require_z=False):\n",
    "        \"\"\"\n",
    "        Create a tree with exactly `nb_total_ops` operators.\n",
    "        \"\"\"\n",
    "        stack = [None]\n",
    "        nb_empty = 1  # number of empty nodes\n",
    "        l_leaves = 0  # left leaves - None states reserved for leaves\n",
    "        t_leaves = 1  # total number of leaves (just used for sanity check)\n",
    "\n",
    "        # create tree\n",
    "        for nb_ops in range(nb_total_ops, 0, -1):\n",
    "\n",
    "            # next operator, arity and position\n",
    "            skipped, arity = sample_next_pos_ubi(nb_empty, nb_ops, rng)\n",
    "            if arity == 1:\n",
    "                op = rng.choice(una_ops, p=una_ops_probs)\n",
    "            else:\n",
    "                op = rng.choice(bin_ops, p=bin_ops_probs)\n",
    "\n",
    "            nb_empty += CLASSIFY_OPERATORS[op] - 1 - skipped  # created empty nodes - skipped future leaves\n",
    "            t_leaves += CLASSIFY_OPERATORS[op] - 1            # update number of total leaves\n",
    "            l_leaves += skipped                           # update number of left leaves\n",
    "\n",
    "            # update tree\n",
    "            pos = [i for i, v in enumerate(stack) if v is None][l_leaves]\n",
    "            stack = stack[:pos] + [op] + [None for _ in range(CLASSIFY_OPERATORS[op])] + stack[pos + 1:]\n",
    "         # sanity check\n",
    "        assert len([1 for v in stack if v in all_ops]) == nb_total_ops\n",
    "        assert len([1 for v in stack if v is None]) == t_leaves\n",
    "\n",
    "        # create leaves\n",
    "        # optionally add variables x, y, z if possible\n",
    "        assert not require_z or require_y\n",
    "        assert not require_y or require_x\n",
    "        leaves = [get_leaf(max_int, rng) for _ in range(t_leaves)]\n",
    "        if require_z and t_leaves >= 2:\n",
    "            leaves[1] = ['z']\n",
    "        if require_y:\n",
    "            leaves[0] = ['y']\n",
    "        if require_x and not any(len(leaf) == 1 and leaf[0] == 'x' for leaf in leaves):\n",
    "            leaves[-1] = ['x']\n",
    "        rng.shuffle(leaves)\n",
    "\n",
    "        # insert leaves into tree\n",
    "        for pos in range(len(stack) - 1, -1, -1):\n",
    "            if stack[pos] is None:\n",
    "                stack = stack[:pos] + leaves.pop() + stack[pos + 1:]\n",
    "        assert len(leaves) == 0\n",
    "\n",
    "        return stack"
   ]
  },
  {
   "cell_type": "code",
   "execution_count": 101,
   "id": "f49ac773",
   "metadata": {},
   "outputs": [],
   "source": [
    "EXP_OPERATORS = {'exp', 'sinh', 'cosh'}\n",
    "EVAL_VALUES = [0.01, 0.1, 0.3, 0.5, 0.7, 0.9, 1.1, 2.1, 3.1]\n",
    "EVAL_VALUES = EVAL_VALUES + [-x for x in EVAL_VALUES]\n",
    "EVAL_SYMBOLS = {'x', 'y', 'z', 'a0', 'a1', 'a2', 'a3', 'a4', 'a5', 'a6', 'a7', 'a8', 'a9'}\n",
    "def count_nested_exp(s):\n",
    "    \"\"\"\n",
    "    Return the maximum number of nested exponential functions in an infix expression.\n",
    "    \"\"\"\n",
    "    stack = []\n",
    "    count = 0\n",
    "    max_count = 0\n",
    "    for v in re.findall('[+-/*//()]|[a-zA-Z0-9]+', s):\n",
    "        if v == '(':\n",
    "            stack.append(v)\n",
    "        elif v == ')':\n",
    "            while True:\n",
    "                x = stack.pop()\n",
    "                if x in EXP_OPERATORS:\n",
    "                    count -= 1\n",
    "                if x == '(':\n",
    "                    break\n",
    "        else:\n",
    "            stack.append(v)\n",
    "            if v in EXP_OPERATORS:\n",
    "                count += 1\n",
    "                max_count = max(max_count, count)\n",
    "    assert len(stack) == 0\n",
    "    return max_count\n",
    "\n",
    "def is_valid_expr(s):\n",
    "    \"\"\"\n",
    "    Check that we are able to evaluate an expression (and that it will not blow in SymPy evaluation).\n",
    "    \"\"\"\n",
    "    s = s.replace('Derivative(f(x),x)', '1')\n",
    "    s = s.replace('Derivative(1,x)', '1')\n",
    "    s = s.replace('(E)', '(exp(1))')\n",
    "    s = s.replace('(I)', '(1)')\n",
    "    s = s.replace('(pi)', '(1)')\n",
    "    s = re.sub(r'(?<![a-z])(f|g|h|Abs|sign|ln|sin|cos|tan|sec|csc|cot|asin|acos|atan|asec|acsc|acot|tanh|sech|csch|coth|asinh|acosh|atanh|asech|acoth|acsch)\\(', '(', s)\n",
    "    count = count_nested_exp(s)\n",
    "    if count >= 4:\n",
    "        return False\n",
    "    for v in EVAL_VALUES:\n",
    "        try:\n",
    "            local_dict = {s: (v + 1e-4 * i) for i, s in enumerate(EVAL_SYMBOLS)}\n",
    "            value = ne.evaluate(s, local_dict=local_dict).item()\n",
    "            if not (math.isnan(value) or math.isinf(value)):\n",
    "                return True\n",
    "        except (FloatingPointError, ZeroDivisionError, TypeError, MemoryError):\n",
    "            continue\n",
    "    return False\n",
    "\n",
    "def infix_to_sympy(infix, no_rewrite=False):\n",
    "        \"\"\"\n",
    "        Convert an infix expression to SymPy.\n",
    "        \"\"\"\n",
    "        #deny this function temporarily\n",
    "        #if not is_valid_expr(infix):\n",
    "        #    raise ValueErrorExpression\n",
    "        #it seems there is no need for local_dict\n",
    "        #expr = parse_expr(infix, evaluate=True, local_dict=self.local_dict)\n",
    "        expr = parse_expr(infix, evaluate=True)\n",
    "        if expr.has(sp.I) or expr.has(AccumBounds):\n",
    "            raise ValueErrorExpression\n",
    "        #deny this function temporarily\n",
    "        #if not no_rewrite:\n",
    "         #   expr = rewrite_sympy_expr(expr)\n",
    "        return expr\n",
    "\n",
    "def write_infix(token, args):\n",
    "        \"\"\"\n",
    "        Infix representation.\n",
    "        Convert prefix expressions to a format that SymPy can parse.\n",
    "        \"\"\"\n",
    "        if token == 'add':\n",
    "            return f'({args[0]})+({args[1]})'\n",
    "        elif token == 'sub':\n",
    "            return f'({args[0]})-({args[1]})'\n",
    "        elif token == 'mul':\n",
    "            return f'({args[0]})*({args[1]})'\n",
    "        elif token == 'div':\n",
    "            return f'({args[0]})/({args[1]})'\n",
    "        elif token == 'pow':\n",
    "            return f'({args[0]})**({args[1]})'\n",
    "        elif token == 'rac':\n",
    "            return f'({args[0]})**(1/({args[1]}))'\n",
    "        elif token == 'abs':\n",
    "            return f'Abs({args[0]})'\n",
    "        elif token == 'inv':\n",
    "            return f'1/({args[0]})'\n",
    "        elif token == 'pow2':\n",
    "            return f'({args[0]})**2'\n",
    "        elif token == 'pow3':\n",
    "            return f'({args[0]})**3'\n",
    "        elif token == 'pow4':\n",
    "            return f'({args[0]})**4'\n",
    "        elif token == 'pow5':\n",
    "            return f'({args[0]})**5'\n",
    "        elif token in ['sign', 'sqrt', 'exp', 'ln', 'sin', 'cos', 'tan', 'cot', 'sec', 'csc', 'asin', 'acos', 'atan', 'acot', 'asec', 'acsc', 'sinh', 'cosh', 'tanh', 'coth', 'sech', 'csch', 'asinh', 'acosh', 'atanh', 'acoth', 'asech', 'acsch']:\n",
    "            return f'{token}({args[0]})'\n",
    "        elif token == 'derivative':\n",
    "            return f'Derivative({args[0]},{args[1]})'\n",
    "        elif token == 'f':\n",
    "            return f'f({args[0]})'\n",
    "        elif token == 'g':\n",
    "            return f'g({args[0]},{args[1]})'\n",
    "        elif token == 'h':\n",
    "            return f'h({args[0]},{args[1]},{args[2]})'\n",
    "        elif token.startswith('INT'):\n",
    "            return f'{token[-1]}{args[0]}'\n",
    "        else:\n",
    "            return token\n",
    "        raise InvalidPrefixExpression(f\"Unknown token in prefix expression: {token}, with arguments {args}\")\n",
    "\n",
    "def parse_int(lst):\n",
    "        \"\"\"\n",
    "        Parse a list that starts with an integer.\n",
    "        Return the integer value, and the position it ends in the list.\n",
    "        \"\"\"\n",
    "        base = int_base\n",
    "        balanced = False #balanced\n",
    "        val = 0\n",
    "        if not (balanced and lst[0] == 'INT' or base >= 2 and lst[0] in ['INT+', 'INT-'] or base <= -2 and lst[0] == 'INT'):\n",
    "            raise InvalidPrefixExpression(f\"Invalid integer in prefix expression\")\n",
    "        i = 0\n",
    "        for x in lst[1:]:\n",
    "            if not (x.isdigit() or x[0] == '-' and x[1:].isdigit()):\n",
    "                break\n",
    "            val = val * base + int(x)\n",
    "            i += 1\n",
    "        if base > 0 and lst[0] == 'INT-':\n",
    "            val = -val\n",
    "        return val, i + 1\n",
    "        \n",
    "def _prefix_to_infix(expr):\n",
    "        \"\"\"\n",
    "        Parse an expression in prefix mode, and output it in either:\n",
    "          - infix mode (returns human readable string)\n",
    "          - develop mode (returns a dictionary with the simplified expression)\n",
    "        \"\"\"\n",
    "        if len(expr) == 0:\n",
    "            raise InvalidPrefixExpression(\"Empty prefix list.\")\n",
    "        t = expr[0]\n",
    "        if t in classify_operators:\n",
    "            args = []\n",
    "            l1 = expr[1:]\n",
    "            for _ in range(CLASSIFY_OPERATORS[t]):\n",
    "                i1, l1 = _prefix_to_infix(l1)\n",
    "                args.append(i1)\n",
    "            return write_infix(t, args), l1\n",
    "        elif t in variables or t in constants or t == 'I':\n",
    "            return t, expr[1:]\n",
    "        else:\n",
    "            val, i = parse_int(expr)\n",
    "            return str(val), expr[i:]\n",
    "        \n",
    "def prefix_to_infix(expr):\n",
    "        \"\"\"\n",
    "        Prefix to infix conversion.\n",
    "        \"\"\"\n",
    "        p, r = _prefix_to_infix(expr)\n",
    "        if len(r) > 0:\n",
    "            raise InvalidPrefixExpression(f\"Incorrect prefix expression \\\"{expr}\\\". \\\"{r}\\\" was not parsed.\")\n",
    "        return f'({p})'"
   ]
  },
  {
   "cell_type": "code",
   "execution_count": 180,
   "id": "46249175",
   "metadata": {},
   "outputs": [],
   "source": [
    "def remove_root_constant_terms(expr, variables, mode):\n",
    "    \"\"\"\n",
    "    Remove root constant terms from a non-constant SymPy expression.\n",
    "    \"\"\"\n",
    "    variables = variables if type(variables) is list else [variables]\n",
    "    assert mode in ['add', 'mul', 'pow']\n",
    "    assert any(x in [x] for x in expr.free_symbols)\n",
    "    if mode == 'add' and expr.is_Add or mode == 'mul' and expr.is_Mul:\n",
    "        args = [arg for arg in expr.args if any(x in [x] for x in arg.free_symbols)]\n",
    "        if len(args) == 1:\n",
    "            expr = args[0]\n",
    "        elif len(args) < len(expr.args):\n",
    "            expr = expr.func(*args)\n",
    "    elif mode == 'pow' and expr.is_Pow:\n",
    "        assert len(expr.args) == 2\n",
    "        if not any(x in variables for x in expr.args[0].free_symbols):\n",
    "            return expr.args[1]\n",
    "        elif not any(x in variables for x in expr.args[1].free_symbols):\n",
    "            return expr.args[0]\n",
    "        else:\n",
    "            return expr\n",
    "    return expr"
   ]
  },
  {
   "cell_type": "code",
   "execution_count": 310,
   "id": "5f158ba5",
   "metadata": {},
   "outputs": [],
   "source": [
    "def _sympy_to_prefix(op, expr):\n",
    "        \"\"\"\n",
    "        Parse a SymPy expression given an initial root operator.\n",
    "        \"\"\"\n",
    "        n_args = len(expr.args)\n",
    "        \"\"\"\n",
    "        # derivative operator\n",
    "        if op == 'derivative':\n",
    "            assert n_args >= 2\n",
    "            assert all(len(arg) == 2 and str(arg[0]) in variables and int(arg[1]) >= 1 for arg in expr.args[1:]), expr.args\n",
    "            parse_list = sympy_to_prefix(expr.args[0])\n",
    "            for var, degree in expr.args[1:]:\n",
    "                parse_list = ['derivative' for _ in range(int(degree))] + parse_list + [str(var) for _ in range(int(degree))]\n",
    "            return parse_list\n",
    "        \"\"\"\n",
    "        assert (op == 'add' or op == 'mul') and (n_args >= 2) or (op != 'add' and op != 'mul') and (1 <= n_args <= 2)\n",
    "\n",
    "        # square root\n",
    "        if op == 'pow' and isinstance(expr.args[1], sp.Rational) and expr.args[1].p == 1 and expr.args[1].q == 2:\n",
    "            return ['sqrt'] + sympy_to_prefix(expr.args[0])\n",
    "\n",
    "        # parse children\n",
    "        parse_list = []\n",
    "        for i in range(n_args):\n",
    "            if i == 0 or i < n_args - 1:\n",
    "                parse_list.append(op)\n",
    "            parse_list += sympy_to_prefix(expr.args[i])\n",
    "\n",
    "        return parse_list\n",
    "def sympy_to_prefix(expr):\n",
    "        \"\"\"\n",
    "        Convert a SymPy expression to a prefix one.\n",
    "        \"\"\"\n",
    "        if isinstance(expr, sp.Symbol):\n",
    "            return [str(expr)]\n",
    "        elif isinstance(expr, sp.Integer):\n",
    "            return write_int(int(str(expr)))\n",
    "        elif isinstance(expr, sp.Rational):\n",
    "            print(expr)\n",
    "            return ['div'] + write_int(int(expr.p)) + write_int(int(expr.q))\n",
    "        elif expr == sp.E:\n",
    "            return ['E']\n",
    "        elif expr == sp.pi:\n",
    "            return ['pi']\n",
    "        elif expr == sp.I:\n",
    "            return ['I']\n",
    "        # SymPy operator\n",
    "        for op_type, op_name in SYMPY_OPERATORS.items():\n",
    "            if isinstance(expr, op_type):\n",
    "                return _sympy_to_prefix(op_name, expr)\n",
    "        #there is no functions\n",
    "        # environment function\n",
    "        #for func_name, func in functions.items():\n",
    "        #    if isinstance(expr, func):\n",
    "        #        return _sympy_to_prefix(func_name, expr)\n",
    "        # unknown operator\n",
    "        raise UnknownSymPyOperator(f\"Unknown SymPy operator: {expr}\")"
   ]
  },
  {
   "cell_type": "code",
   "execution_count": 449,
   "id": "3dd6f9a1",
   "metadata": {
    "scrolled": true
   },
   "outputs": [
    {
     "name": "stdout",
     "output_type": "stream",
     "text": [
      "nb_ops is %d 3\n",
      "['add', 'acos', 'x', 'sin', 'pi']\n",
      "((acos(x))+(sin(pi)))\n",
      "acos(x)\n",
      "acos(x)\n"
     ]
    },
    {
     "data": {
      "image/png": "[encoded data removed]",
      "text/plain": [
       "<Figure size 432x288 with 1 Axes>"
      ]
     },
     "metadata": {
      "needs_background": "light"
     },
     "output_type": "display_data"
    },
    {
     "name": "stdout",
     "output_type": "stream",
     "text": [
      "['acos', 'x']\n",
      "2\n",
      "128\n"
     ]
    },
    {
     "name": "stderr",
     "output_type": "stream",
     "text": [
      "<string>:2: RuntimeWarning: invalid value encountered in arccos\n"
     ]
    }
   ],
   "source": [
    "#seed = 1 #1 for random seed\n",
    "#rng = np.random.RandomState(seed)\n",
    "        \n",
    "x = variables['x']\n",
    "        \n",
    "if rng.randint(40) ==0:   #randint (0,40). the probability for true is 1/40 \n",
    "    nb_ops = rng.randint(0,3) # generate a random number from (0,3)\n",
    "else:\n",
    "    nb_ops = rng.randint(3,max_ops+1) #(3,16) #the total number of ops\n",
    "        \n",
    "print(\"nb_ops is %d\", nb_ops)\n",
    "stats = np.zeros(10,dtype = np.int64)\n",
    "        \n",
    "f_expr = _generate_expr(nb_ops,max_int,rng)\n",
    "print(f_expr)\n",
    "infix = prefix_to_infix(f_expr)\n",
    "print(infix)\n",
    "f = infix_to_sympy(infix)\n",
    "print(f)\n",
    "f\n",
    "# no need to remove additive constant, re-index coefficients\n",
    "#if rng.randint(2) == 0:\n",
    "        \n",
    "#     f = remove_root_constant_terms(f, x, 'add')\n",
    "print(f)\n",
    "sp.plotting.plot(f)\n",
    "#f = self.reduce_coefficients(f)\n",
    "#f = self.simplify_const_with_coeff(f)\n",
    "#f = self.reindex_coefficients(f)\n",
    "f_prefix = sympy_to_prefix(f)\n",
    "print(f_prefix)\n",
    "print(len(f_prefix))\n",
    "function = lambdify(x, f)\n",
    "data_x = np.linspace(-10,10,128)\n",
    "data_y = function(data_x)\n",
    "print(len(data_y))"
   ]
  },
  {
   "cell_type": "code",
   "execution_count": 450,
   "id": "55c84c02",
   "metadata": {},
   "outputs": [
    {
     "data": {
      "text/plain": [
       "array([       nan,        nan,        nan,        nan,        nan,\n",
       "              nan,        nan,        nan,        nan,        nan,\n",
       "              nan,        nan,        nan,        nan,        nan,\n",
       "              nan,        nan,        nan,        nan,        nan,\n",
       "              nan,        nan,        nan,        nan,        nan,\n",
       "              nan,        nan,        nan,        nan,        nan,\n",
       "              nan,        nan,        nan,        nan,        nan,\n",
       "              nan,        nan,        nan,        nan,        nan,\n",
       "              nan,        nan,        nan,        nan,        nan,\n",
       "              nan,        nan,        nan,        nan,        nan,\n",
       "              nan,        nan,        nan,        nan,        nan,\n",
       "              nan,        nan,        nan, 2.61822658, 2.3583955 ,\n",
       "       2.15457544, 1.97545039, 1.80927072, 1.64961808, 1.49197458,\n",
       "       1.33232193, 1.16614226, 0.98701721, 0.78319715, 0.52336607,\n",
       "              nan,        nan,        nan,        nan,        nan,\n",
       "              nan,        nan,        nan,        nan,        nan,\n",
       "              nan,        nan,        nan,        nan,        nan,\n",
       "              nan,        nan,        nan,        nan,        nan,\n",
       "              nan,        nan,        nan,        nan,        nan,\n",
       "              nan,        nan,        nan,        nan,        nan,\n",
       "              nan,        nan,        nan,        nan,        nan,\n",
       "              nan,        nan,        nan,        nan,        nan,\n",
       "              nan,        nan,        nan,        nan,        nan,\n",
       "              nan,        nan,        nan,        nan,        nan,\n",
       "              nan,        nan,        nan,        nan,        nan,\n",
       "              nan,        nan,        nan])"
      ]
     },
     "execution_count": 450,
     "metadata": {},
     "output_type": "execute_result"
    }
   ],
   "source": [
    "data_y"
   ]
  },
  {
   "cell_type": "code",
   "execution_count": 440,
   "id": "4ec0a915",
   "metadata": {},
   "outputs": [
    {
     "name": "stdout",
     "output_type": "stream",
     "text": [
      "pi**2*(x + pi)/2\n",
      "4.93480220054468*x + 15.5031383401499\n"
     ]
    }
   ],
   "source": [
    "expr =f\n",
    "print(expr)\n",
    "print(expr.evalf(subs={x: 3}))"
   ]
  },
  {
   "cell_type": "code",
   "execution_count": 352,
   "id": "ff91236b",
   "metadata": {},
   "outputs": [],
   "source": [
    "import csv\n",
    "datapoint_path ='../data/datapoint_2.tsv'\n",
    "expr_pth = '../data/expr_2.tsv'\n",
    "with open(datapoint_path,'a') as out_file:\n",
    "    tsv_writer = csv.writer(out_file, delimiter='\\t')\n",
    "    tsv_writer.writerow(data_y)\n",
    "\n",
    "with open(expr_pth,'a') as out_file:\n",
    "    tsv_writer = csv.writer(out_file, delimiter='\\t')\n",
    "    tsv_writer.writerow(f_prefix)"
   ]
  },
  {
   "cell_type": "code",
   "execution_count": null,
   "id": "1e599070",
   "metadata": {},
   "outputs": [],
   "source": [
    "import csv\n",
    "\n",
    "with open('/tmp/output.tsv', 'wt') as out_file:\n",
    "    tsv_writer = csv.writer(out_file, delimiter='\\t')\n",
    "    tsv_writer.writerow(['name', 'field'])\n",
    "    tsv_writer.writerow(['Dijkstra', 'Computer Science'])\n",
    "    tsv_writer.writerow(['Shelah', 'Math'])\n",
    "    tsv_writer.writerow(['Aumann', 'Economic Sciences'])"
   ]
  },
  {
   "cell_type": "code",
   "execution_count": 373,
   "id": "aca793ca",
   "metadata": {},
   "outputs": [
    {
     "data": {
      "text/plain": [
       "True"
      ]
     },
     "execution_count": 373,
     "metadata": {},
     "output_type": "execute_result"
    }
   ],
   "source": [
    "#if x not in f.free_symbols:\n",
    "#            return None\n",
    "sp.Symbol('x') in [a for a in f.free_symbols]\n",
    "sp.Symbol('x') in f.free_symbols\n",
    "#variables['x'] == sp.Symbol('x')"
   ]
  },
  {
   "cell_type": "code",
   "execution_count": 334,
   "id": "0100714d",
   "metadata": {},
   "outputs": [
    {
     "name": "stdout",
     "output_type": "stream",
     "text": [
      "[ 129.00232202  139.99459156  144.97719246  143.98368539  137.29912611\n",
      "  125.43852058  109.11598929   89.20629699   66.70069617   42.65922886\n",
      "   18.16172718   -5.74025522  -28.06845679  -47.95794494  -64.69053735\n",
      "  -77.72032014  -86.69037499  -91.44025777  -92.00421069  -88.60051892\n",
      "  -81.61282069  -71.56453038  -59.08782021  -44.88881816  -29.71080723\n",
      "  -14.29725142    0.64357334   14.47069615   26.63787508   36.71515767\n",
      "   44.40372768   49.54354167   52.11362863   52.22529289   50.10880803\n",
      "   46.09450012   40.58937797   34.0506652    26.95771376   19.78382725\n",
      "   12.96949322    6.89841878    1.87759038   -1.87765507   -4.25284104\n",
      "   -5.23745134   -4.92185617   -3.48833188   -1.19675548    1.63416414\n",
      "    4.64902116    7.47994078    9.77151719   11.20504147   11.52063665\n",
      "   10.53602635    8.16084037    4.40559493   -0.61523347   -6.68630791\n",
      "  -13.50064194  -20.67452845  -27.76747989  -34.30619266  -39.81131481\n",
      "  -43.82562273  -45.94210758  -45.83044333  -43.26035637  -38.12054237\n",
      "  -30.43197237  -20.35468977   -8.18751084    5.63961196   20.58043673\n",
      "   35.99399254   51.17200347   65.37100551   77.84771569   87.896006\n",
      "   94.88370422   98.287396     97.72344308   92.9735603    84.00350545\n",
      "   70.97372266   54.24113025   34.3516421    12.02344053  -11.87854187\n",
      "  -36.37604356  -60.41751086  -82.92311168 -102.83280398 -119.15533528\n",
      " -131.0159408  -137.70050008 -138.69400715 -133.71140626 -122.71913671]\n"
     ]
    }
   ],
   "source": [
    "f_x = lambdify(x, f)\n",
    "data = np.linspace(-10,10,100)\n",
    "dataset = f_x(data)\n",
    "print(dataset)"
   ]
  },
  {
   "cell_type": "code",
   "execution_count": 286,
   "id": "963f7f26",
   "metadata": {},
   "outputs": [
    {
     "data": {
      "image/png": "[encoded data removed]",
      "text/plain": [
       "<Figure size 432x288 with 1 Axes>"
      ]
     },
     "metadata": {
      "needs_background": "light"
     },
     "output_type": "display_data"
    },
    {
     "data": {
      "text/plain": [
       "<sympy.plotting.plot.Plot at 0x7f83e9628510>"
      ]
     },
     "execution_count": 286,
     "metadata": {},
     "output_type": "execute_result"
    }
   ],
   "source": [
    "plotting.plot(f)"
   ]
  },
  {
   "cell_type": "code",
   "execution_count": 437,
   "id": "80ab1244",
   "metadata": {},
   "outputs": [
    {
     "name": "stdout",
     "output_type": "stream",
     "text": [
      "x + (2*x + 4)/x\n"
     ]
    },
    {
     "data": {
      "text/latex": [
       "$\\displaystyle x + \\frac{2 x + 4}{x}$"
      ],
      "text/plain": [
       "x + (2*x + 4)/x"
      ]
     },
     "execution_count": 437,
     "metadata": {},
     "output_type": "execute_result"
    }
   ],
   "source": [
    "print(expr)\n",
    "expr"
   ]
  },
  {
   "cell_type": "code",
   "execution_count": 177,
   "id": "1257de08",
   "metadata": {},
   "outputs": [
    {
     "data": {
      "text/plain": [
       "True"
      ]
     },
     "execution_count": 177,
     "metadata": {},
     "output_type": "execute_result"
    }
   ],
   "source": [
    "x in [x]"
   ]
  },
  {
   "cell_type": "code",
   "execution_count": 137,
   "id": "2a80aaea",
   "metadata": {},
   "outputs": [
    {
     "data": {
      "text/plain": [
       "{x}"
      ]
     },
     "execution_count": 137,
     "metadata": {},
     "output_type": "execute_result"
    }
   ],
   "source": [
    "f.free_symbols"
   ]
  },
  {
   "cell_type": "code",
   "execution_count": 117,
   "id": "ce19ef43",
   "metadata": {},
   "outputs": [
    {
     "data": {
      "text/latex": [
       "$\\displaystyle \\frac{x \\left(\\pi x + \\pi \\tan{\\left(\\sqrt{3} \\right)}\\right)}{2 x + \\pi + 5}$"
      ],
      "text/plain": [
       "x*(pi*x + pi*tan(sqrt(3)))/(2*x + pi + 5)"
      ]
     },
     "execution_count": 117,
     "metadata": {},
     "output_type": "execute_result"
    }
   ],
   "source": [
    "F = sp.integrate(f, x, risch=True)\n",
    "F"
   ]
  },
  {
   "cell_type": "code",
   "execution_count": 295,
   "id": "161d36be",
   "metadata": {},
   "outputs": [
    {
     "data": {
      "text/plain": [
       "False"
      ]
     },
     "execution_count": 295,
     "metadata": {},
     "output_type": "execute_result"
    }
   ],
   "source": [
    "isinstance(expr, sp.Integer)"
   ]
  },
  {
   "cell_type": "code",
   "execution_count": 315,
   "id": "ee3b6859",
   "metadata": {},
   "outputs": [],
   "source": [
    "x=\"1234\"\n"
   ]
  },
  {
   "cell_type": "code",
   "execution_count": 316,
   "id": "89866038",
   "metadata": {},
   "outputs": [
    {
     "data": {
      "text/plain": [
       "'123'"
      ]
     },
     "execution_count": 316,
     "metadata": {},
     "output_type": "execute_result"
    }
   ],
   "source": [
    "x[:-1]"
   ]
  },
  {
   "cell_type": "code",
   "execution_count": 384,
   "id": "501adb37",
   "metadata": {},
   "outputs": [
    {
     "ename": "ModuleNotFoundError",
     "evalue": "No module named 'torch'",
     "output_type": "error",
     "traceback": [
      "\u001b[0;31m---------------------------------------------------------------------------\u001b[0m",
      "\u001b[0;31mModuleNotFoundError\u001b[0m                       Traceback (most recent call last)",
      "\u001b[0;32m/var/folders/c5/0l95yfvj0dsf8p2147g8n0c80000gn/T/ipykernel_28078/4265195184.py\u001b[0m in \u001b[0;36m<module>\u001b[0;34m\u001b[0m\n\u001b[0;32m----> 1\u001b[0;31m \u001b[0;32mimport\u001b[0m \u001b[0mtorch\u001b[0m\u001b[0;34m\u001b[0m\u001b[0;34m\u001b[0m\u001b[0m\n\u001b[0m",
      "\u001b[0;31mModuleNotFoundError\u001b[0m: No module named 'torch'"
     ]
    }
   ],
   "source": [
    "import torch"
   ]
  },
  {
   "cell_type": "code",
   "execution_count": 385,
   "id": "86efc67a",
   "metadata": {},
   "outputs": [],
   "source": [
    "expr = [[\"a\",\"c\"],[\"b\",\"a\",\"s\"]]"
   ]
  },
  {
   "cell_type": "code",
   "execution_count": 391,
   "id": "fe61468a",
   "metadata": {},
   "outputs": [
    {
     "data": {
      "text/plain": [
       "['a', 'b', 'c', 's']"
      ]
     },
     "execution_count": 391,
     "metadata": {},
     "output_type": "execute_result"
    }
   ],
   "source": [
    "list(sorted(list(set([symbol  for each in expr for symbol in each ]))))"
   ]
  },
  {
   "cell_type": "code",
   "execution_count": 392,
   "id": "1c8f7ed4",
   "metadata": {},
   "outputs": [],
   "source": [
    "data_size, vocab_size = len(expr),len(expr)"
   ]
  },
  {
   "cell_type": "code",
   "execution_count": 393,
   "id": "139b89d6",
   "metadata": {},
   "outputs": [
    {
     "data": {
      "text/plain": [
       "2"
      ]
     },
     "execution_count": 393,
     "metadata": {},
     "output_type": "execute_result"
    }
   ],
   "source": [
    "vocab_size"
   ]
  },
  {
   "cell_type": "code",
   "execution_count": 401,
   "id": "b7dc02a4",
   "metadata": {},
   "outputs": [
    {
     "data": {
      "text/plain": [
       "['a', 'c', '□']"
      ]
     },
     "execution_count": 401,
     "metadata": {},
     "output_type": "execute_result"
    }
   ],
   "source": [
    "expr[0]+[PAD_CHAR]"
   ]
  },
  {
   "cell_type": "code",
   "execution_count": 400,
   "id": "b607ffc8",
   "metadata": {},
   "outputs": [],
   "source": [
    "PAD_CHAR = u\"\\u25A1\""
   ]
  },
  {
   "cell_type": "code",
   "execution_count": 405,
   "id": "e4b9140c",
   "metadata": {},
   "outputs": [
    {
     "ename": "AttributeError",
     "evalue": "'list' object has no attribute 'type'",
     "output_type": "error",
     "traceback": [
      "\u001b[0;31m---------------------------------------------------------------------------\u001b[0m",
      "\u001b[0;31mAttributeError\u001b[0m                            Traceback (most recent call last)",
      "\u001b[0;32m/var/folders/c5/0l95yfvj0dsf8p2147g8n0c80000gn/T/ipykernel_28078/899179263.py\u001b[0m in \u001b[0;36m<module>\u001b[0;34m\u001b[0m\n\u001b[0;32m----> 1\u001b[0;31m \u001b[0;34m[\u001b[0m\u001b[0mPAD_CHAR\u001b[0m\u001b[0;34m]\u001b[0m\u001b[0;34m.\u001b[0m\u001b[0mtype\u001b[0m\u001b[0;34m(\u001b[0m\u001b[0;34m)\u001b[0m\u001b[0;34m\u001b[0m\u001b[0;34m\u001b[0m\u001b[0m\n\u001b[0m",
      "\u001b[0;31mAttributeError\u001b[0m: 'list' object has no attribute 'type'"
     ]
    }
   ],
   "source": [
    "[PAD_CHAR].type()"
   ]
  },
  {
   "cell_type": "code",
   "execution_count": 407,
   "id": "cb8122e1",
   "metadata": {},
   "outputs": [],
   "source": [
    "import csv\n",
    "def read_tsv(path,quoting = csv.QUOTE_MINIMAL):\n",
    "    results = []\n",
    "    with open(path) as file:\n",
    "        data = csv.reader(file, delimiter=\"\\t\",quoting=quoting)#=csv.QUOTE_NONNUMERIC\n",
    "     \n",
    "        # printing data line by line\n",
    "        for line in data:\n",
    "            results.append(line)\n",
    "    return results"
   ]
  },
  {
   "cell_type": "code",
   "execution_count": 408,
   "id": "f6ef4898",
   "metadata": {},
   "outputs": [],
   "source": [
    "expr_path = '../data/expr_2.tsv'\n",
    "expr = read_tsv(expr_path)"
   ]
  },
  {
   "cell_type": "code",
   "execution_count": 418,
   "id": "d01cba63",
   "metadata": {},
   "outputs": [],
   "source": [
    "points_path ='../data/datapoint_2.tsv'\n",
    "points = read_tsv(points_path,quoting=csv.QUOTE_NONNUMERIC)"
   ]
  },
  {
   "cell_type": "code",
   "execution_count": 421,
   "id": "7bebc7d4",
   "metadata": {},
   "outputs": [
    {
     "ename": "AttributeError",
     "evalue": "'float' object has no attribute 'shape'",
     "output_type": "error",
     "traceback": [
      "\u001b[0;31m---------------------------------------------------------------------------\u001b[0m",
      "\u001b[0;31mAttributeError\u001b[0m                            Traceback (most recent call last)",
      "\u001b[0;32m/var/folders/c5/0l95yfvj0dsf8p2147g8n0c80000gn/T/ipykernel_28078/185829028.py\u001b[0m in \u001b[0;36m<module>\u001b[0;34m\u001b[0m\n\u001b[0;32m----> 1\u001b[0;31m \u001b[0mpoints\u001b[0m\u001b[0;34m[\u001b[0m\u001b[0;36m0\u001b[0m\u001b[0;34m]\u001b[0m\u001b[0;34m[\u001b[0m\u001b[0;36m0\u001b[0m\u001b[0;34m]\u001b[0m\u001b[0;34m.\u001b[0m\u001b[0mshape\u001b[0m\u001b[0;34m(\u001b[0m\u001b[0;34m)\u001b[0m\u001b[0;34m\u001b[0m\u001b[0;34m\u001b[0m\u001b[0m\n\u001b[0m",
      "\u001b[0;31mAttributeError\u001b[0m: 'float' object has no attribute 'shape'"
     ]
    }
   ],
   "source": [
    "points[0][0]"
   ]
  },
  {
   "cell_type": "code",
   "execution_count": null,
   "id": "d6886bc3",
   "metadata": {},
   "outputs": [],
   "source": []
  }
 ],
 "metadata": {
  "kernelspec": {
   "display_name": "Python 3 (ipykernel)",
   "language": "python",
   "name": "python3"
  },
  "language_info": {
   "codemirror_mode": {
    "name": "ipython",
    "version": 3
   },
   "file_extension": ".py",
   "mimetype": "text/x-python",
   "name": "python",
   "nbconvert_exporter": "python",
   "pygments_lexer": "ipython3",
   "version": "3.7.11"
  }
 },
 "nbformat": 4,
 "nbformat_minor": 5
}
