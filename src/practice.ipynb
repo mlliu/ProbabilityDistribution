{
 "cells": [
  {
   "cell_type": "code",
   "execution_count": 1,
   "id": "f6ae594c",
   "metadata": {},
   "outputs": [],
   "source": [
    "#try to understand mask\n",
    "import numpy as np\n"
   ]
  },
  {
   "cell_type": "code",
   "execution_count": 5,
   "id": "33ef42b7",
   "metadata": {},
   "outputs": [
    {
     "name": "stdout",
     "output_type": "stream",
     "text": [
      "[[1. 1. 1.]\n",
      " [1. 1. 1.]\n",
      " [1. 1. 1.]]\n"
     ]
    }
   ],
   "source": [
    "a=np.ones((3,3))\n",
    "print(a)"
   ]
  },
  {
   "cell_type": "code",
   "execution_count": 8,
   "id": "3d1ad4c8",
   "metadata": {},
   "outputs": [
    {
     "data": {
      "text/plain": [
       "array([[False, False, False],\n",
       "       [False, False, False],\n",
       "       [False, False, False]])"
      ]
     },
     "execution_count": 8,
     "metadata": {},
     "output_type": "execute_result"
    }
   ],
   "source": [
    "a[:3,:3] == 0"
   ]
  },
  {
   "cell_type": "code",
   "execution_count": 1,
   "id": "59dd4f52",
   "metadata": {},
   "outputs": [],
   "source": [
    "import torch"
   ]
  },
  {
   "cell_type": "code",
   "execution_count": 4,
   "id": "a2725713",
   "metadata": {},
   "outputs": [
    {
     "name": "stdout",
     "output_type": "stream",
     "text": [
      "tensor([[1., 0., 0.],\n",
      "        [1., 1., 0.],\n",
      "        [1., 1., 1.]])\n"
     ]
    }
   ],
   "source": [
    "a=torch.tril(torch.ones(3, 3))\n",
    "print(a)"
   ]
  },
  {
   "cell_type": "code",
   "execution_count": 13,
   "id": "925fe741",
   "metadata": {},
   "outputs": [
    {
     "ename": "TypeError",
     "evalue": "'int' object is not callable",
     "output_type": "error",
     "traceback": [
      "\u001b[0;31m---------------------------------------------------------------------------\u001b[0m",
      "\u001b[0;31mTypeError\u001b[0m                                 Traceback (most recent call last)",
      "\u001b[0;32m<ipython-input-13-41fc23357892>\u001b[0m in \u001b[0;36m<module>\u001b[0;34m\u001b[0m\n\u001b[1;32m      1\u001b[0m \u001b[0ma\u001b[0m\u001b[0;34m=\u001b[0m\u001b[0mnp\u001b[0m\u001b[0;34m.\u001b[0m\u001b[0marray\u001b[0m\u001b[0;34m(\u001b[0m\u001b[0;34m[\u001b[0m\u001b[0;36m1\u001b[0m\u001b[0;34m,\u001b[0m\u001b[0;36m2\u001b[0m\u001b[0;34m,\u001b[0m\u001b[0;36m3\u001b[0m\u001b[0;34m,\u001b[0m\u001b[0;36m4\u001b[0m\u001b[0;34m]\u001b[0m\u001b[0;34m)\u001b[0m\u001b[0;34m\u001b[0m\u001b[0;34m\u001b[0m\u001b[0m\n\u001b[0;32m----> 2\u001b[0;31m \u001b[0ma\u001b[0m\u001b[0;34m.\u001b[0m\u001b[0msize\u001b[0m\u001b[0;34m(\u001b[0m\u001b[0;34m)\u001b[0m\u001b[0;34m\u001b[0m\u001b[0;34m\u001b[0m\u001b[0m\n\u001b[0m",
      "\u001b[0;31mTypeError\u001b[0m: 'int' object is not callable"
     ]
    }
   ],
   "source": [
    "a=np.array([1,2,3,4])\n",
    "a.size()"
   ]
  },
  {
   "cell_type": "code",
   "execution_count": 14,
   "id": "a2b9065b",
   "metadata": {},
   "outputs": [],
   "source": [
    "import torch "
   ]
  },
  {
   "cell_type": "code",
   "execution_count": 16,
   "id": "fef483d2",
   "metadata": {},
   "outputs": [
    {
     "data": {
      "text/plain": [
       "4"
      ]
     },
     "execution_count": 16,
     "metadata": {},
     "output_type": "execute_result"
    }
   ],
   "source": [
    "a=torch.ones(3,4)\n",
    "a.size(-1)"
   ]
  },
  {
   "cell_type": "code",
   "execution_count": 17,
   "id": "38d46b19",
   "metadata": {},
   "outputs": [
    {
     "data": {
      "text/plain": [
       "False"
      ]
     },
     "execution_count": 17,
     "metadata": {},
     "output_type": "execute_result"
    }
   ],
   "source": [
    "no_decay = [\"bias\",\"lay\"]\n",
    "\"lay.0.conv1.weight\" in no_decay"
   ]
  },
  {
   "cell_type": "code",
   "execution_count": 21,
   "id": "dba77444",
   "metadata": {},
   "outputs": [
    {
     "data": {
      "text/plain": [
       "True"
      ]
     },
     "execution_count": 21,
     "metadata": {},
     "output_type": "execute_result"
    }
   ],
   "source": [
    "any(n in \"lay.0.conv1.weight\" for n in no_decay)"
   ]
  },
  {
   "cell_type": "code",
   "execution_count": 22,
   "id": "d33a45bb",
   "metadata": {},
   "outputs": [],
   "source": [
    "operators =\"add:10,sub:3,mul:10,div:5,sqrt:4,pow2:4,pow3:2,pow4:1,pow5:1,ln:4,exp:4,sin:4,cos:4,tan:4,asin:1,acos:1,atan:1,sinh:1,cosh:1,tanh:1,asinh:1,acosh:1,atanh:1\""
   ]
  },
  {
   "cell_type": "code",
   "execution_count": 29,
   "id": "ad23a564",
   "metadata": {},
   "outputs": [
    {
     "name": "stdout",
     "output_type": "stream",
     "text": [
      "['add:10', 'sub:3', 'mul:10', 'div:5', 'sqrt:4', 'pow2:4', 'pow3:2', 'pow4:1', 'pow5:1', 'ln:4', 'exp:4', 'sin:4', 'cos:4', 'tan:4', 'asin:1', 'acos:1', 'atan:1', 'sinh:1', 'cosh:1', 'tanh:1', 'asinh:1', 'acosh:1', 'atanh:1']\n",
      "[['acos', '1'], ['acosh', '1'], ['add', '10'], ['asin', '1'], ['asinh', '1'], ['atan', '1'], ['atanh', '1'], ['cos', '4'], ['cosh', '1'], ['div', '5'], ['exp', '4'], ['ln', '4'], ['mul', '10'], ['pow2', '4'], ['pow3', '2'], ['pow4', '1'], ['pow5', '1'], ['sin', '4'], ['sinh', '1'], ['sqrt', '4'], ['sub', '3'], ['tan', '4'], ['tanh', '1']]\n",
      "['acos', 'acosh', 'add', 'asin', 'asinh', 'atan', 'atanh', 'cos', 'cosh', 'div', 'exp', 'ln', 'mul', 'pow2', 'pow3', 'pow4', 'pow5', 'sin', 'sinh', 'sqrt', 'sub', 'tan', 'tanh']\n"
     ]
    }
   ],
   "source": [
    "ops = operators.split(',')\n",
    "print(ops)\n",
    "ops = sorted([x.split(':') for x in ops])\n",
    "print(ops)\n",
    "all_ops = [o for o,_ in ops]\n",
    "print(all_ops)"
   ]
  },
  {
   "cell_type": "code",
   "execution_count": 32,
   "id": "bed128df",
   "metadata": {},
   "outputs": [
    {
     "data": {
      "text/plain": [
       "['0', '1', '2', '3', '4', '5', '6', '7', '8', '9']"
      ]
     },
     "execution_count": 32,
     "metadata": {},
     "output_type": "execute_result"
    }
   ],
   "source": [
    "[str(i) for i in range(abs(10))]"
   ]
  },
  {
   "cell_type": "code",
   "execution_count": 33,
   "id": "c5ff2723",
   "metadata": {},
   "outputs": [
    {
     "data": {
      "text/plain": [
       "['-5', '-4', '-3', '-2', '-1', '0', '1', '2', '3', '4']"
      ]
     },
     "execution_count": 33,
     "metadata": {},
     "output_type": "execute_result"
    }
   ],
   "source": [
    "int_base =10\n",
    "max_digit = (int_base + 1) // 2\n",
    "[str(i) for i in range(max_digit - abs(int_base), max_digit)]"
   ]
  },
  {
   "cell_type": "code",
   "execution_count": 60,
   "id": "9fb7bb1d",
   "metadata": {
    "scrolled": true
   },
   "outputs": [],
   "source": [
    "import matplotlib.pyplot as plt\n",
    "def plot_dist(samples):\n",
    "    count, bins, ignored = plt.hist(samples, 30, density=True)\n",
    "    plt.show()\n"
   ]
  },
  {
   "cell_type": "code",
   "execution_count": 65,
   "id": "547be1d1",
   "metadata": {},
   "outputs": [
    {
     "data": {
      "image/png": "[encoded data removed]",
      "text/plain": [
       "<Figure size 432x288 with 1 Axes>"
      ]
     },
     "metadata": {
      "needs_background": "light"
     },
     "output_type": "display_data"
    }
   ],
   "source": [
    "#normal_distribution\n",
    "mu=1\n",
    "sigma=0.1\n",
    "normal = np.random.normal(mu,sigma,size=10240)\n",
    "\n",
    "count, bins, ignored = plt.hist(normal, 30, density=True)\n",
    "plt.plot(bins, 1/(sigma * np.sqrt(2 * np.pi)) *\n",
    "               np.exp( - (bins - mu)**2 / (2 * sigma**2) ),\n",
    "          linewidth=2, color='r')\n",
    "plt.show()"
   ]
  },
  {
   "cell_type": "code",
   "execution_count": 59,
   "id": "8a211041",
   "metadata": {},
   "outputs": [
    {
     "data": {
      "image/png": "[encoded data removed]",
      "text/plain": [
       "<Figure size 432x288 with 1 Axes>"
      ]
     },
     "metadata": {
      "needs_background": "light"
     },
     "output_type": "display_data"
    }
   ],
   "source": [
    "beta = 0.5\n",
    "exponential = np.random.exponential(beta,size=10240)\n",
    "plot_dist(exponential)"
   ]
  },
  {
   "cell_type": "code",
   "execution_count": 57,
   "id": "3c721633",
   "metadata": {},
   "outputs": [
    {
     "data": {
      "image/png": "[encoded data removed]",
      "text/plain": [
       "<Figure size 432x288 with 1 Axes>"
      ]
     },
     "metadata": {
      "needs_background": "light"
     },
     "output_type": "display_data"
    }
   ],
   "source": [
    "#beta distribution\n",
    "a=10\n",
    "b=100\n",
    "beta  = np.random.beta(a,b,size =10240)\n",
    "plot_dist(beta)"
   ]
  },
  {
   "cell_type": "code",
   "execution_count": 56,
   "id": "a9ebf6db",
   "metadata": {},
   "outputs": [
    {
     "data": {
      "image/png": "[encoded data removed]",
      "text/plain": [
       "<Figure size 432x288 with 1 Axes>"
      ]
     },
     "metadata": {
      "needs_background": "light"
     },
     "output_type": "display_data"
    }
   ],
   "source": [
    "#laplace distribution\n",
    "loc = 0\n",
    "scale =5.0\n",
    "laplace = np.random.laplace(loc,scale,size =10240)\n",
    "plot_dist(laplace)"
   ]
  },
  {
   "cell_type": "code",
   "execution_count": 73,
   "id": "a1aa08f2",
   "metadata": {},
   "outputs": [
    {
     "data": {
      "image/png": "[encoded data removed]",
      "text/plain": [
       "<Figure size 432x288 with 1 Axes>"
      ]
     },
     "metadata": {
      "needs_background": "light"
     },
     "output_type": "display_data"
    }
   ],
   "source": [
    "#lognormal distribution\n",
    "logmu=10\n",
    "logsigma=0.3\n",
    "lognormal = np.random.lognormal(logmu,logsigma,size=10240)\n",
    "plot_dist(lognormal)"
   ]
  },
  {
   "cell_type": "code",
   "execution_count": 74,
   "id": "6180d143",
   "metadata": {},
   "outputs": [],
   "source": [
    "import numpy as np\n",
    "\n",
    "n_samples = 1050 # set the number of samples to take for each dataset\n",
    "test_size = 0.3 # set the proportion of data to hold out for testing\n",
    "\n",
    "# define the function and add noise\n",
    "\n",
    "def f_gauss(x):\n",
    "    return np.exp(-x * x) + np.random.normal(loc=0, scale=.1, size = x.shape[0])\n",
    "\n",
    "X = np.random.permutation(np.linspace(-10, 10, n_samples)) # choose some points from the function\n",
    "Y = f_gauss(X)"
   ]
  },
  {
   "cell_type": "code",
   "execution_count": 80,
   "id": "ffb79562",
   "metadata": {},
   "outputs": [
    {
     "data": {
      "text/plain": [
       "<matplotlib.collections.PathCollection at 0x7fccf93f40a0>"
      ]
     },
     "execution_count": 80,
     "metadata": {},
     "output_type": "execute_result"
    },
    {
     "data": {
      "image/png": "[encoded data removed]",
      "text/plain": [
       "<Figure size 432x288 with 1 Axes>"
      ]
     },
     "metadata": {
      "needs_background": "light"
     },
     "output_type": "display_data"
    }
   ],
   "source": [
    "plt.scatter(X,np.exp(-X * X))"
   ]
  },
  {
   "cell_type": "code",
   "execution_count": 76,
   "id": "072cd78a",
   "metadata": {},
   "outputs": [
    {
     "data": {
      "text/plain": [
       "<matplotlib.collections.PathCollection at 0x7fcd0860ffd0>"
      ]
     },
     "execution_count": 76,
     "metadata": {},
     "output_type": "execute_result"
    },
    {
     "data": {
      "image/png": "[encoded data removed]",
      "text/plain": [
       "<Figure size 432x288 with 1 Axes>"
      ]
     },
     "metadata": {
      "needs_background": "light"
     },
     "output_type": "display_data"
    }
   ],
   "source": [
    "plt.scatter(X, Y)"
   ]
  },
  {
   "cell_type": "code",
   "execution_count": 91,
   "id": "55dd2a1d",
   "metadata": {},
   "outputs": [
    {
     "data": {
      "text/plain": [
       "<matplotlib.collections.PathCollection at 0x7fcd587eca30>"
      ]
     },
     "execution_count": 91,
     "metadata": {},
     "output_type": "execute_result"
    },
    {
     "data": {
      "image/png": "[encoded data removed]",
      "text/plain": [
       "<Figure size 432x288 with 1 Axes>"
      ]
     },
     "metadata": {
      "needs_background": "light"
     },
     "output_type": "display_data"
    }
   ],
   "source": [
    "def f_gauss(x):\n",
    "    return 3*x * x+2*x+1 + np.random.normal(loc=150, scale=50, size = x.shape[0])\n",
    "\n",
    "X = np.random.permutation(np.linspace(-100, 100, n_samples)) # choose some points from the function\n",
    "Y = f_gauss(X)\n",
    "plt.scatter(X, Y)"
   ]
  },
  {
   "cell_type": "code",
   "execution_count": 86,
   "id": "60e53c2c",
   "metadata": {},
   "outputs": [
    {
     "data": {
      "text/plain": [
       "(1050,)"
      ]
     },
     "execution_count": 86,
     "metadata": {},
     "output_type": "execute_result"
    }
   ],
   "source": [
    "X.shape"
   ]
  },
  {
   "cell_type": "code",
   "execution_count": 93,
   "id": "a9762e94",
   "metadata": {},
   "outputs": [],
   "source": [
    "seed = 1 #-1 for random seed\n",
    "rng = np.random.RandomState(seed)"
   ]
  },
  {
   "cell_type": "code",
   "execution_count": 96,
   "id": "a009fbfb",
   "metadata": {},
   "outputs": [
    {
     "data": {
      "text/plain": [
       "0"
      ]
     },
     "execution_count": 96,
     "metadata": {},
     "output_type": "execute_result"
    }
   ],
   "source": [
    "nb_ops = rng.randint(0, 3)\n",
    "nb_ops"
   ]
  },
  {
   "cell_type": "code",
   "execution_count": 98,
   "id": "840ef32c",
   "metadata": {},
   "outputs": [
    {
     "data": {
      "text/plain": [
       "11"
      ]
     },
     "execution_count": 98,
     "metadata": {},
     "output_type": "execute_result"
    }
   ],
   "source": [
    "max_ops=15\n",
    "nb_ops = rng.randint(3, max_ops + 1)\n",
    "nb_ops"
   ]
  },
  {
   "cell_type": "code",
   "execution_count": 101,
   "id": "4220121f",
   "metadata": {},
   "outputs": [
    {
     "data": {
      "text/plain": [
       "5"
      ]
     },
     "execution_count": 101,
     "metadata": {},
     "output_type": "execute_result"
    }
   ],
   "source": [
    "rng.randint(40)"
   ]
  },
  {
   "cell_type": "code",
   "execution_count": 113,
   "id": "5071124c",
   "metadata": {},
   "outputs": [
    {
     "data": {
      "image/png": "[encoded data removed]",
      "text/plain": [
       "<Figure size 432x288 with 1 Axes>"
      ]
     },
     "metadata": {
      "needs_background": "light"
     },
     "output_type": "display_data"
    }
   ],
   "source": [
    "mu=10000\n",
    "sigma = 100\n",
    "#poisson distribution\n",
    "possion = np.random.poisson(mu,size=1024)\n",
    "\n",
    "\n",
    "count, bins, ignored = plt.hist(possion, 30, density=True)\n",
    "#normal distribution \n",
    "plt.plot(bins, 1/(sigma * np.sqrt(2 * np.pi)) *\n",
    "               np.exp( - (bins - mu)**2 / (2 * sigma**2) ),\n",
    "          linewidth=2, color='r')\n",
    "\n",
    "#plt.xlable(\"number of person coming to the No.1 Dinning Hall\")\n",
    "#plt.ylable(\"probabiliy\")\n",
    "plt.legend(['normal','poisson'])\n",
    "plt.show()"
   ]
  },
  {
   "cell_type": "code",
   "execution_count": 115,
   "id": "78ef2330",
   "metadata": {},
   "outputs": [
    {
     "data": {
      "text/plain": [
       "37"
      ]
     },
     "execution_count": 115,
     "metadata": {},
     "output_type": "execute_result"
    }
   ],
   "source": [
    "seed = 1 #1 for random seed\n",
    "rng = np.random.RandomState(seed)\n",
    "rng.randint(40)"
   ]
  },
  {
   "cell_type": "code",
   "execution_count": 116,
   "id": "d2d49e52",
   "metadata": {},
   "outputs": [
    {
     "data": {
      "text/plain": [
       "12"
      ]
     },
     "execution_count": 116,
     "metadata": {},
     "output_type": "execute_result"
    }
   ],
   "source": [
    "rng.randint(40)"
   ]
  },
  {
   "cell_type": "code",
   "execution_count": 117,
   "id": "d2d336a9",
   "metadata": {},
   "outputs": [
    {
     "data": {
      "text/plain": [
       "array([0, 0, 0, 0, 0, 0, 0, 0, 0, 0])"
      ]
     },
     "execution_count": 117,
     "metadata": {},
     "output_type": "execute_result"
    }
   ],
   "source": [
    "np.zeros(10,dtype = np.int64)"
   ]
  },
  {
   "cell_type": "code",
   "execution_count": 128,
   "id": "2b3ad4f1",
   "metadata": {},
   "outputs": [
    {
     "data": {
      "text/plain": [
       "1"
      ]
     },
     "execution_count": 128,
     "metadata": {},
     "output_type": "execute_result"
    }
   ],
   "source": [
    "rng.randint(0,3)"
   ]
  },
  {
   "cell_type": "code",
   "execution_count": 130,
   "id": "d7d55d1b",
   "metadata": {},
   "outputs": [
    {
     "data": {
      "text/plain": [
       "[4, 3, 2, 1]"
      ]
     },
     "execution_count": 130,
     "metadata": {},
     "output_type": "execute_result"
    }
   ],
   "source": [
    "[x for x in range(4,0,-1)]"
   ]
  },
  {
   "cell_type": "code",
   "execution_count": 131,
   "id": "0f8d7db1",
   "metadata": {},
   "outputs": [
    {
     "data": {
      "text/plain": [
       "[None, None, None]"
      ]
     },
     "execution_count": 131,
     "metadata": {},
     "output_type": "execute_result"
    }
   ],
   "source": [
    "[None for _ in range(3)]"
   ]
  },
  {
   "cell_type": "code",
   "execution_count": 132,
   "id": "02012db5",
   "metadata": {},
   "outputs": [
    {
     "data": {
      "text/plain": [
       "range(0, 2)"
      ]
     },
     "execution_count": 132,
     "metadata": {},
     "output_type": "execute_result"
    }
   ],
   "source": [
    "range(2)"
   ]
  },
  {
   "cell_type": "code",
   "execution_count": 136,
   "id": "5d4783bc",
   "metadata": {},
   "outputs": [
    {
     "data": {
      "text/plain": [
       "1"
      ]
     },
     "execution_count": 136,
     "metadata": {},
     "output_type": "execute_result"
    }
   ],
   "source": [
    "a={1:3}\n",
    "len(a)"
   ]
  },
  {
   "cell_type": "code",
   "execution_count": 141,
   "id": "9f51d491",
   "metadata": {},
   "outputs": [
    {
     "data": {
      "text/plain": [
       "['INT+', '1', '0', '1']"
      ]
     },
     "execution_count": 141,
     "metadata": {},
     "output_type": "execute_result"
    }
   ],
   "source": [
    "def write_int( val):\n",
    "        \"\"\"\n",
    "        Convert a decimal integer to a representation in the given base.\n",
    "        The base can be negative.\n",
    "        In balanced bases (positive), digits range from -(base-1)//2 to (base-1)//2\n",
    "        \"\"\"\n",
    "        base = 10 #self.int_base\n",
    "        balanced = False #self.balanced\n",
    "        res = []\n",
    "        max_digit = abs(base)\n",
    "        if balanced:\n",
    "            max_digit = (base - 1) // 2\n",
    "        else:\n",
    "            if base > 0:\n",
    "                neg = val < 0\n",
    "                val = -val if neg else val\n",
    "        while True:\n",
    "            rem = val % base\n",
    "            val = val // base\n",
    "            if rem < 0 or rem > max_digit:\n",
    "                rem -= base\n",
    "                val += 1\n",
    "            res.append(str(rem))\n",
    "            if val == 0:\n",
    "                break\n",
    "        if base < 0 or balanced:\n",
    "            res.append('INT')\n",
    "        else:\n",
    "            res.append('INT-' if neg else 'INT+')\n",
    "        return res[::-1]\n",
    "write_int(101)"
   ]
  },
  {
   "cell_type": "code",
   "execution_count": 2,
   "id": "3b69ae21",
   "metadata": {},
   "outputs": [],
   "source": [
    "stats = np.zeros(10,dtype = np.int64)"
   ]
  },
  {
   "cell_type": "code",
   "execution_count": 29,
   "id": "458fb67d",
   "metadata": {},
   "outputs": [],
   "source": [
    "\n",
    "    \n",
    "    "
   ]
  },
  {
   "cell_type": "code",
   "execution_count": 25,
   "id": "061c2503",
   "metadata": {},
   "outputs": [],
   "source": [
    "def sample_next_pos_ubi(self, nb_empty, nb_ops, rng):\n",
    "        \"\"\"\n",
    "        Sample the position of the next node (unary-binary case).\n",
    "        Sample a position in {0, ..., `nb_empty` - 1}, along with an arity.\n",
    "        \"\"\"\n",
    "        assert nb_empty > 0\n",
    "        assert nb_ops > 0\n",
    "        probs = []\n",
    "        for i in range(nb_empty):\n",
    "            probs.append((nl ** i) * p1 * ubi_dist[nb_empty - i][nb_ops - 1])\n",
    "        for i in range(nb_empty):\n",
    "            probs.append((nl ** i) * p2 * self.ubi_dist[nb_empty - i + 1][nb_ops - 1])\n",
    "        probs = [p / ubi_dist[nb_empty][nb_ops] for p in probs]\n",
    "        probs = np.array(probs, dtype=np.float64)\n",
    "        e = rng.choice(2 * nb_empty, p=probs) # random select a number from range(2*nb_empty) with p = probs\n",
    "        arity = 1 if e < nb_empty else 2 #\n",
    "        e = e % nb_empty\n",
    "        #skipped arity\n",
    "        return e, arity"
   ]
  },
  {
   "cell_type": "code",
   "execution_count": 7,
   "id": "b937922e",
   "metadata": {},
   "outputs": [],
   "source": [
    "def generate_bin_dist( max_ops):\n",
    "        \"\"\"\n",
    "        `max_ops`: maximum number of operators\n",
    "        Enumerate the number of possible binary trees that can be generated from empty nodes.\n",
    "        D[e][n] represents the number of different binary trees with n nodes that\n",
    "        can be generated from e empty nodes, using the following recursion:\n",
    "            D(0, n) = 0\n",
    "            D(1, n) = C_n (n-th Catalan number)\n",
    "            D(e, n) = D(e - 1, n + 1) - D(e - 2, n + 1)\n",
    "        \"\"\"\n",
    "        # initialize Catalan numbers\n",
    "        catalans = [1]\n",
    "        for i in range(1, 2 * max_ops + 1):\n",
    "            catalans.append((4 * i - 2) * catalans[i - 1] // (i + 1))\n",
    "\n",
    "        # enumerate possible trees\n",
    "        D = []\n",
    "        for e in range(max_ops + 1):  # number of empty nodes\n",
    "            s = []\n",
    "            for n in range(2 * max_ops - e + 1):  # number of operators\n",
    "                if e == 0:\n",
    "                    s.append(0)\n",
    "                elif e == 1:\n",
    "                    s.append(catalans[n])\n",
    "                else:\n",
    "                    s.append(D[e - 1][n + 1] - D[e - 2][n + 1])\n",
    "            D.append(s)\n",
    "        return D"
   ]
  },
  {
   "cell_type": "code",
   "execution_count": 17,
   "id": "422f4c06",
   "metadata": {},
   "outputs": [],
   "source": [
    " def generate_ubi_dist( max_ops):\n",
    "        \"\"\"\n",
    "        `max_ops`: maximum number of operators\n",
    "        Enumerate the number of possible unary-binary trees that can be generated from empty nodes.\n",
    "        D[e][n] represents the number of different binary trees with n nodes that\n",
    "        can be generated from e empty nodes, using the following recursion:\n",
    "            D(0, n) = 0\n",
    "            D(e, 0) = L ** e\n",
    "            D(e, n) = L * D(e - 1, n) + p_1 * D(e, n - 1) + p_2 * D(e + 1, n - 1)\n",
    "        \"\"\"\n",
    "        # enumerate possible trees\n",
    "        # first generate the tranposed version of D, then transpose it\n",
    "        D = []\n",
    "        D.append([0] + ([nl ** i for i in range(1, 2 * max_ops + 1)]))\n",
    "        for n in range(1, 2 * max_ops + 1):  # number of operators\n",
    "            s = [0]\n",
    "            for e in range(1, 2 * max_ops - n + 1):  # number of empty nodes\n",
    "                s.append(nl * s[e - 1] + p1 * D[n - 1][e] + p2 * D[n - 1][e + 1])\n",
    "            D.append(s)\n",
    "        assert all(len(D[i]) >= len(D[i + 1]) for i in range(len(D) - 1))\n",
    "        D = [[D[j][i] for j in range(len(D)) if i < len(D[j])] for i in range(max(len(x) for x in D))]\n",
    "        return D"
   ]
  },
  {
   "cell_type": "code",
   "execution_count": 21,
   "id": "9a17c270",
   "metadata": {},
   "outputs": [],
   "source": [
    "nl=1\n",
    "p1=1\n",
    "p2=1\n",
    "ubi_dist = generate_ubi_dist(15)"
   ]
  },
  {
   "cell_type": "code",
   "execution_count": 19,
   "id": "8929b9e3",
   "metadata": {},
   "outputs": [
    {
     "data": {
      "text/plain": [
       "[[0,\n",
       "  0,\n",
       "  0,\n",
       "  0,\n",
       "  0,\n",
       "  0,\n",
       "  0,\n",
       "  0,\n",
       "  0,\n",
       "  0,\n",
       "  0,\n",
       "  0,\n",
       "  0,\n",
       "  0,\n",
       "  0,\n",
       "  0,\n",
       "  0,\n",
       "  0,\n",
       "  0,\n",
       "  0,\n",
       "  0,\n",
       "  0,\n",
       "  0,\n",
       "  0,\n",
       "  0,\n",
       "  0,\n",
       "  0,\n",
       "  0,\n",
       "  0,\n",
       "  0,\n",
       "  0],\n",
       " [1,\n",
       "  2,\n",
       "  6,\n",
       "  22,\n",
       "  90,\n",
       "  394,\n",
       "  1806,\n",
       "  8558,\n",
       "  41586,\n",
       "  206098,\n",
       "  1037718,\n",
       "  5293446,\n",
       "  27297738,\n",
       "  142078746,\n",
       "  745387038,\n",
       "  3937603038,\n",
       "  20927156706,\n",
       "  111818026018,\n",
       "  600318853926,\n",
       "  3236724317174,\n",
       "  17518619320890,\n",
       "  95149655201962,\n",
       "  518431875418926,\n",
       "  2832923350929742,\n",
       "  15521467648875090,\n",
       "  85249942588971314,\n",
       "  469286147871837366,\n",
       "  2588758890960637798,\n",
       "  14308406109097843626,\n",
       "  79228031819993134650],\n",
       " [1,\n",
       "  4,\n",
       "  16,\n",
       "  68,\n",
       "  304,\n",
       "  1412,\n",
       "  6752,\n",
       "  33028,\n",
       "  164512,\n",
       "  831620,\n",
       "  4255728,\n",
       "  22004292,\n",
       "  114781008,\n",
       "  603308292,\n",
       "  3192216000,\n",
       "  16989553668,\n",
       "  90890869312,\n",
       "  488500827908,\n",
       "  2636405463248,\n",
       "  14281895003716,\n",
       "  77631035881072,\n",
       "  423282220216964,\n",
       "  2314491475510816,\n",
       "  12688544297945348,\n",
       "  69728474940096224,\n",
       "  384036205282866052,\n",
       "  2119472743088800432,\n",
       "  11719647218137205828,\n",
       "  64919625710895291024],\n",
       " [1,\n",
       "  6,\n",
       "  30,\n",
       "  146,\n",
       "  714,\n",
       "  3534,\n",
       "  17718,\n",
       "  89898,\n",
       "  461010,\n",
       "  2386390,\n",
       "  12455118,\n",
       "  65478978,\n",
       "  346448538,\n",
       "  1843520670,\n",
       "  9859734630,\n",
       "  52974158938,\n",
       "  285791932578,\n",
       "  1547585781414,\n",
       "  8408765223294,\n",
       "  45830521556466,\n",
       "  250501529133930,\n",
       "  1372777379874926,\n",
       "  7541129471504790,\n",
       "  41518462993275786,\n",
       "  229057787753798514,\n",
       "  1266150389934097014,\n",
       "  7011415584087767598,\n",
       "  38891572383660241570],\n",
       " [1,\n",
       "  8,\n",
       "  48,\n",
       "  264,\n",
       "  1408,\n",
       "  7432,\n",
       "  39152,\n",
       "  206600,\n",
       "  1093760,\n",
       "  5813000,\n",
       "  31019568,\n",
       "  166188552,\n",
       "  893763840,\n",
       "  4823997960,\n",
       "  26124870640,\n",
       "  141926904328,\n",
       "  773293020928,\n",
       "  4224773978632,\n",
       "  23139861329456,\n",
       "  127039971696392,\n",
       "  698993630524032,\n",
       "  3853860616119048,\n",
       "  21288789223825648,\n",
       "  117810849820426504,\n",
       "  653056396897432448,\n",
       "  3625792451064870152,\n",
       "  20160509581435268144],\n",
       " [1,\n",
       "  10,\n",
       "  70,\n",
       "  430,\n",
       "  2490,\n",
       "  14002,\n",
       "  77550,\n",
       "  426150,\n",
       "  2332850,\n",
       "  12751450,\n",
       "  69690006,\n",
       "  381126750,\n",
       "  2086713450,\n",
       "  11441138050,\n",
       "  62827874750,\n",
       "  345574184022,\n",
       "  1903895176290,\n",
       "  10506322127530,\n",
       "  58069588810470,\n",
       "  321452129693710,\n",
       "  1782089605720090,\n",
       "  9893799136201810,\n",
       "  55003597603325070,\n",
       "  306187759323207430,\n",
       "  1706585664233340690,\n",
       "  9523301546282630394],\n",
       " [1,\n",
       "  12,\n",
       "  96,\n",
       "  652,\n",
       "  4080,\n",
       "  24396,\n",
       "  142000,\n",
       "  812940,\n",
       "  4605600,\n",
       "  25918988,\n",
       "  145248192,\n",
       "  811822860,\n",
       "  4530426640,\n",
       "  25261866060,\n",
       "  140819404944,\n",
       "  785027971340,\n",
       "  4377652972608,\n",
       "  24423405353484,\n",
       "  136342569186848,\n",
       "  761643845502348,\n",
       "  4257848914362672,\n",
       "  23821009243297612,\n",
       "  133373311899455856,\n",
       "  747341508012700812,\n",
       "  4190923430984419552],\n",
       " [1,\n",
       "  14,\n",
       "  126,\n",
       "  938,\n",
       "  6314,\n",
       "  40054,\n",
       "  244790,\n",
       "  1459810,\n",
       "  8561938,\n",
       "  49639198,\n",
       "  285447918,\n",
       "  1631890330,\n",
       "  9290301370,\n",
       "  52729664134,\n",
       "  298634382374,\n",
       "  1688729824978,\n",
       "  9539430253346,\n",
       "  53849575022894,\n",
       "  303849146621790,\n",
       "  1714115463140234,\n",
       "  9669361192733130,\n",
       "  54548705052833174,\n",
       "  307780436790037526,\n",
       "  1736996258738378050],\n",
       " [1,\n",
       "  16,\n",
       "  160,\n",
       "  1296,\n",
       "  9344,\n",
       "  62736,\n",
       "  402080,\n",
       "  2496528,\n",
       "  15158272,\n",
       "  90560528,\n",
       "  534619552,\n",
       "  3127984400,\n",
       "  18177496704,\n",
       "  105085313296,\n",
       "  605067471264,\n",
       "  3473047455760,\n",
       "  19886739416064,\n",
       "  113657002412048,\n",
       "  648622471016096,\n",
       "  3697396815230224,\n",
       "  21058334616802432,\n",
       "  119858419837748496,\n",
       "  681874313935639712],\n",
       " [1,\n",
       "  18,\n",
       "  198,\n",
       "  1734,\n",
       "  13338,\n",
       "  94554,\n",
       "  634638,\n",
       "  4099806,\n",
       "  25763058,\n",
       "  158611106,\n",
       "  961474518,\n",
       "  5759210934,\n",
       "  34178152458,\n",
       "  201347775594,\n",
       "  1179250159518,\n",
       "  6874261706958,\n",
       "  39920687973090,\n",
       "  231116321982258,\n",
       "  1334658881073894,\n",
       "  7691576608839078,\n",
       "  44251380168112890,\n",
       "  254235457307853690],\n",
       " [1,\n",
       "  20,\n",
       "  240,\n",
       "  2260,\n",
       "  18480,\n",
       "  138004,\n",
       "  968640,\n",
       "  6504980,\n",
       "  42287520,\n",
       "  268243860,\n",
       "  1669752016,\n",
       "  10241444820,\n",
       "  62084309840,\n",
       "  372834912660,\n",
       "  2221964091680,\n",
       "  13159686850068,\n",
       "  77538631597120,\n",
       "  454920088075540,\n",
       "  2659520912534960,\n",
       "  15501468942471380,\n",
       "  90125657301992304],\n",
       " [1,\n",
       "  22,\n",
       "  286,\n",
       "  2882,\n",
       "  24970,\n",
       "  195998,\n",
       "  1436534,\n",
       "  10019482,\n",
       "  67345234,\n",
       "  440033638,\n",
       "  2812481870,\n",
       "  17664712562,\n",
       "  109402827226,\n",
       "  669879019502,\n",
       "  4063461051430,\n",
       "  24458256773962,\n",
       "  146265134496162,\n",
       "  869941943385526,\n",
       "  5150371421097342,\n",
       "  30372808191408034],\n",
       " [1,\n",
       "  24,\n",
       "  336,\n",
       "  3608,\n",
       "  33024,\n",
       "  271896,\n",
       "  2077968,\n",
       "  15038232,\n",
       "  104444544,\n",
       "  702696216,\n",
       "  4610785872,\n",
       "  29653804824,\n",
       "  187641279616,\n",
       "  1171617940248,\n",
       "  7235108872464,\n",
       "  44268246125080,\n",
       "  268756720813824,\n",
       "  1620908565176856,\n",
       "  9720967827839312],\n",
       " [1,\n",
       "  26,\n",
       "  390,\n",
       "  4446,\n",
       "  42874,\n",
       "  369538,\n",
       "  2940782,\n",
       "  22061078,\n",
       "  158218034,\n",
       "  1095607786,\n",
       "  7378306390,\n",
       "  48584647566,\n",
       "  314097641130,\n",
       "  2000029880786,\n",
       "  12574880478654,\n",
       "  78223340192582,\n",
       "  482209900977506,\n",
       "  2949687841565114],\n",
       " [1,\n",
       "  28,\n",
       "  448,\n",
       "  5404,\n",
       "  54768,\n",
       "  493276,\n",
       "  4082064,\n",
       "  31712412,\n",
       "  234693536,\n",
       "  1671912732,\n",
       "  11552536352,\n",
       "  77871713948,\n",
       "  514314299408,\n",
       "  3339741725404,\n",
       "  21380213588848,\n",
       "  135229839971100,\n",
       "  846569375410752],\n",
       " [1,\n",
       "  30,\n",
       "  510,\n",
       "  6490,\n",
       "  68970,\n",
       "  648006,\n",
       "  5569270,\n",
       "  44763090,\n",
       "  341611410,\n",
       "  2502317230,\n",
       "  17734530030,\n",
       "  122344944330,\n",
       "  825397545210,\n",
       "  5465591384790,\n",
       "  35626286189670,\n",
       "  229129634462146],\n",
       " [1,\n",
       "  32,\n",
       "  576,\n",
       "  7712,\n",
       "  85760,\n",
       "  839200,\n",
       "  7481408,\n",
       "  62154784,\n",
       "  488793088,\n",
       "  3679676448,\n",
       "  26738700352,\n",
       "  188738301472,\n",
       "  1300452114176,\n",
       "  8780481216032,\n",
       "  58273508301376],\n",
       " [1,\n",
       "  34,\n",
       "  646,\n",
       "  9078,\n",
       "  105434,\n",
       "  1072938,\n",
       "  9910286,\n",
       "  85026894,\n",
       "  688566130,\n",
       "  5324493874,\n",
       "  39654656790,\n",
       "  286316267494,\n",
       "  2014437717066,\n",
       "  13866740895674],\n",
       " [1,\n",
       "  36,\n",
       "  720,\n",
       "  10596,\n",
       "  128304,\n",
       "  1355940,\n",
       "  12961824,\n",
       "  114746148,\n",
       "  956251296,\n",
       "  7591462564,\n",
       "  57923309232,\n",
       "  427669335396,\n",
       "  3071821962576],\n",
       " [1,\n",
       "  38,\n",
       "  798,\n",
       "  12274,\n",
       "  154698,\n",
       "  1695598,\n",
       "  16757430,\n",
       "  152939018,\n",
       "  1310717394,\n",
       "  10677189878,\n",
       "  83429758670,\n",
       "  629714910114],\n",
       " [1,\n",
       "  40,\n",
       "  880,\n",
       "  14120,\n",
       "  184960,\n",
       "  2100008,\n",
       "  21435440,\n",
       "  201527080,\n",
       "  1775009920,\n",
       "  14829259560,\n",
       "  118615816048],\n",
       " [1,\n",
       "  42,\n",
       "  966,\n",
       "  16142,\n",
       "  219450,\n",
       "  2578002,\n",
       "  27152622,\n",
       "  262765446,\n",
       "  2377059762,\n",
       "  20356797818],\n",
       " [1, 44, 1056, 18348, 258544, 3139180, 34085744, 339284396, 3150478496],\n",
       " [1, 46, 1150, 20746, 302634, 3793942, 42433206, 434134338],\n",
       " [1, 48, 1248, 23344, 352128, 4553520, 52416736],\n",
       " [1, 50, 1350, 26150, 407450, 5430010],\n",
       " [1, 52, 1456, 29172, 469040],\n",
       " [1, 54, 1566, 32418],\n",
       " [1, 56, 1680],\n",
       " [1, 58],\n",
       " [1]]"
      ]
     },
     "execution_count": 19,
     "metadata": {},
     "output_type": "execute_result"
    }
   ],
   "source": [
    "ubi_dist"
   ]
  },
  {
   "cell_type": "code",
   "execution_count": 22,
   "id": "b6ed28c2",
   "metadata": {},
   "outputs": [
    {
     "data": {
      "text/plain": [
       "0"
      ]
     },
     "execution_count": 22,
     "metadata": {},
     "output_type": "execute_result"
    }
   ],
   "source": [
    "nb_ops=1\n",
    "nb_empty=1\n",
    "i=1\n",
    "(nl ** i) * p1 * ubi_dist[nb_empty - i][nb_ops - 1]"
   ]
  },
  {
   "cell_type": "code",
   "execution_count": 24,
   "id": "2c571fdf",
   "metadata": {},
   "outputs": [
    {
     "data": {
      "text/plain": [
       "4"
      ]
     },
     "execution_count": 24,
     "metadata": {},
     "output_type": "execute_result"
    }
   ],
   "source": [
    "def _generate_expr(nb_total_ops, max_int, rng, require_x=False, require_y=False, require_z=False):\n",
    "        \"\"\"\n",
    "        Create a tree with exactly `nb_total_ops` operators.\n",
    "        \"\"\"\n",
    "        stack = [None]\n",
    "        nb_empty = 1  # number of empty nodes\n",
    "        l_leaves = 0  # left leaves - None states reserved for leaves\n",
    "        t_leaves = 1  # total number of leaves (just used for sanity check)\n",
    "\n",
    "        # create tree\n",
    "        for nb_ops in range(nb_total_ops, 0, -1):\n",
    "\n",
    "            # next operator, arity and position\n",
    "            skipped, arity = sample_next_pos_ubi(nb_empty, nb_ops, rng)\n",
    "            if arity == 1:\n",
    "                op = rng.choice(self.una_ops, p=una_ops_probs)\n",
    "            else:\n",
    "                op = rng.choice(self.bin_ops, p=bin_ops_probs)\n",
    "\n",
    "            nb_empty += self.CLASSIFY_OPERATORS[op] - 1 - skipped  # created empty nodes - skipped future leaves\n",
    "            t_leaves += self.CLASSIFY_OPERATORS[op] - 1            # update number of total leaves\n",
    "            l_leaves += skipped                           # update number of left leaves\n",
    "\n",
    "            # update tree\n",
    "            pos = [i for i, v in enumerate(stack) if v is None][l_leaves]\n",
    "            stack = stack[:pos] + [op] + [None for _ in range(self.CLASSIFY_OPERATORS[op])] + stack[pos + 1:]\n",
    "         # sanity check\n",
    "        assert len([1 for v in stack if v in self.all_ops]) == nb_total_ops\n",
    "        assert len([1 for v in stack if v is None]) == t_leaves\n",
    "\n",
    "        # create leaves\n",
    "        # optionally add variables x, y, z if possible\n",
    "        assert not require_z or require_y\n",
    "        assert not require_y or require_x\n",
    "        leaves = [self.get_leaf(max_int, rng) for _ in range(t_leaves)]\n",
    "        if require_z and t_leaves >= 2:\n",
    "            leaves[1] = ['z']\n",
    "        if require_y:\n",
    "            leaves[0] = ['y']\n",
    "        if require_x and not any(len(leaf) == 1 and leaf[0] == 'x' for leaf in leaves):\n",
    "            leaves[-1] = ['x']\n",
    "        rng.shuffle(leaves)\n",
    "\n",
    "        # insert leaves into tree\n",
    "        for pos in range(len(stack) - 1, -1, -1):\n",
    "            if stack[pos] is None:\n",
    "                stack = stack[:pos] + leaves.pop() + stack[pos + 1:]\n",
    "        assert len(leaves) == 0\n",
    "\n",
    "        return stack"
   ]
  },
  {
   "cell_type": "code",
   "execution_count": 30,
   "id": "9904472d",
   "metadata": {},
   "outputs": [],
   "source": [
    "def sample_next_pos_ubi(self, nb_empty, nb_ops, rng):\n",
    "        \"\"\"\n",
    "        Sample the position of the next node (unary-binary case).\n",
    "        Sample a position in {0, ..., `nb_empty` - 1}, along with an arity.\n",
    "        \"\"\"\n",
    "        assert nb_empty > 0\n",
    "        assert nb_ops > 0\n",
    "        probs = []\n",
    "        for i in range(nb_empty):\n",
    "            probs.append((self.nl ** i) * self.p1 * self.ubi_dist[nb_empty - i][nb_ops - 1])\n",
    "        for i in range(nb_empty):\n",
    "            probs.append((self.nl ** i) * self.p2 * self.ubi_dist[nb_empty - i + 1][nb_ops - 1])\n",
    "        probs = [p / self.ubi_dist[nb_empty][nb_ops] for p in probs]\n",
    "        probs = np.array(probs, dtype=np.float64)\n",
    "                                             #compute the ubi_dist is to generate four expression trees with same probability\n",
    "        e = rng.choice(2 * nb_empty, p=probs)# random select a number from range(2*nb_empty) with p = probs\n",
    "        arity = 1 if e < nb_empty else 2     #1 is for uni 2 is for binary\n",
    "        e = e % nb_empty                     #e is skipped, is the position of the operator\n",
    "        return e, arity"
   ]
  },
  {
   "cell_type": "code",
   "execution_count": 31,
   "id": "a443aecd",
   "metadata": {},
   "outputs": [],
   "source": [
    "def _generate_expr(nb_total_ops, max_int, rng, require_x=False, require_y=False, require_z=False):\n",
    "        \"\"\"\n",
    "        Create a tree with exactly `nb_total_ops` operators.\n",
    "        \"\"\"\n",
    "        stack = [None]\n",
    "        nb_empty = 1  # number of empty nodes\n",
    "        l_leaves = 0  # left leaves - None states reserved for leaves\n",
    "        t_leaves = 1  # total number of leaves (just used for sanity check)\n",
    "\n",
    "        # create tree\n",
    "        for nb_ops in range(nb_total_ops, 0, -1):\n",
    "\n",
    "            # next operator, arity and position\n",
    "            skipped, arity = sample_next_pos_ubi(nb_empty, nb_ops, rng)\n",
    "            if arity == 1:\n",
    "                op = rng.choice(una_ops, p=una_ops_probs)\n",
    "            else:\n",
    "                op = rng.choice(bin_ops, p=bin_ops_probs)\n",
    "\n",
    "            nb_empty += CLASSIFY_OPERATORS[op] - 1 - skipped  # created empty nodes - skipped future leaves\n",
    "            t_leaves += CLASSIFY_OPERATORS[op] - 1            # update number of total leaves\n",
    "            l_leaves += skipped                           # update number of left leaves\n",
    "\n",
    "            # update tree\n",
    "            pos = [i for i, v in enumerate(stack) if v is None][l_leaves]\n",
    "            stack = stack[:pos] + [op] + [None for _ in range(CLASSIFY_OPERATORS[op])] + stack[pos + 1:]\n",
    "         # sanity check\n",
    "        assert len([1 for v in stack if v in all_ops]) == nb_total_ops\n",
    "        assert len([1 for v in stack if v is None]) == t_leaves\n",
    "\n",
    "        # create leaves\n",
    "        # optionally add variables x, y, z if possible\n",
    "        assert not require_z or require_y\n",
    "        assert not require_y or require_x\n",
    "        leaves = [get_leaf(max_int, rng) for _ in range(t_leaves)]\n",
    "        if require_z and t_leaves >= 2:\n",
    "            leaves[1] = ['z']\n",
    "        if require_y:\n",
    "            leaves[0] = ['y']\n",
    "        if require_x and not any(len(leaf) == 1 and leaf[0] == 'x' for leaf in leaves):\n",
    "            leaves[-1] = ['x']\n",
    "        rng.shuffle(leaves)\n",
    "\n",
    "        # insert leaves into tree\n",
    "        for pos in range(len(stack) - 1, -1, -1):\n",
    "            if stack[pos] is None:\n",
    "                stack = stack[:pos] + leaves.pop() + stack[pos + 1:]\n",
    "        assert len(leaves) == 0\n",
    "\n",
    "        return stack"
   ]
  },
  {
   "cell_type": "code",
   "execution_count": null,
   "id": "cb74023f",
   "metadata": {},
   "outputs": [],
   "source": []
  }
 ],
 "metadata": {
  "kernelspec": {
   "display_name": "Python 3 (ipykernel)",
   "language": "python",
   "name": "python3"
  },
  "language_info": {
   "codemirror_mode": {
    "name": "ipython",
    "version": 3
   },
   "file_extension": ".py",
   "mimetype": "text/x-python",
   "name": "python",
   "nbconvert_exporter": "python",
   "pygments_lexer": "ipython3",
   "version": "3.7.11"
  }
 },
 "nbformat": 4,
 "nbformat_minor": 5
}
